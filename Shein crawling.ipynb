{
 "cells": [
  {
   "cell_type": "code",
   "execution_count": null,
   "id": "9c2f97a2",
   "metadata": {},
   "outputs": [],
   "source": [
    "#pip install selenium"
   ]
  },
  {
   "cell_type": "code",
   "execution_count": 16,
   "id": "d4c2c49c",
   "metadata": {},
   "outputs": [],
   "source": [
    "import os                          \n",
    "import pandas as pd\n",
    "import numpy as np\n",
    "import matplotlib as mpl\n",
    "import matplotlib.pyplot as plt      \n",
    "import math\n",
    "import seaborn as sns\n",
    "from collections import Counter\n",
    "from sklearn.decomposition import PCA\n",
    "%matplotlib inline"
   ]
  },
  {
   "cell_type": "code",
   "execution_count": 1,
   "id": "8cd30999",
   "metadata": {},
   "outputs": [],
   "source": [
    "import sys\n",
    "import time\n",
    "from selenium import webdriver\n",
    "from selenium.common.exceptions import NoSuchElementException\n",
    "from selenium.webdriver.common.keys import Keys\n",
    "from selenium.webdriver.support.ui import Select\n",
    "from selenium.webdriver import ActionChains\n",
    "from selenium.webdriver.common.by import By\n",
    "from selenium.webdriver.support.ui import WebDriverWait\n",
    "from selenium.webdriver.support import expected_conditions as EC"
   ]
  },
  {
   "cell_type": "code",
   "execution_count": 2,
   "id": "e891e865",
   "metadata": {},
   "outputs": [],
   "source": [
    "p = \"/Users/mayshviro/Downloads/chromedriver\\ 2\""
   ]
  },
  {
   "cell_type": "code",
   "execution_count": 3,
   "id": "05f514a5",
   "metadata": {},
   "outputs": [
    {
     "name": "stderr",
     "output_type": "stream",
     "text": [
      "/var/folders/4g/6d5rmj2j34gfjq_25p6prwz00000gn/T/ipykernel_26550/3521715885.py:4: DeprecationWarning: executable_path has been deprecated, please pass in a Service object\n",
      "  driver = webdriver.Chrome(p, options=options)\n"
     ]
    }
   ],
   "source": [
    "options = webdriver.ChromeOptions()\n",
    "options.binary_location = \"/Applications/Google Chrome.app/Contents/MacOS/Google Chrome\"\n",
    "options.add_argument(\"--enable-javascript\")\n",
    "driver = webdriver.Chrome(p, options=options)"
   ]
  },
  {
   "cell_type": "code",
   "execution_count": 4,
   "id": "870ac1cc",
   "metadata": {},
   "outputs": [],
   "source": [
    "def open_driver():\n",
    "    options = webdriver.ChromeOptions()\n",
    "    options.binary_location = \"/Applications/Google Chrome.app/Contents/MacOS/Google Chrome\"\n",
    "    options.add_argument(\"--enable-javascript\")\n",
    "    driver = webdriver.Chrome(p, options=options)"
   ]
  },
  {
   "cell_type": "code",
   "execution_count": 6,
   "id": "73278654",
   "metadata": {},
   "outputs": [],
   "source": [
    "url=\"https://il.shein.com/Women-Tops,-Blouses-Tee-c-1766.html?ici=ilen_tab01navbar06&scici=navbar_WomenHomePage~~tab01navbar06~~6~~real_1766~~~~0&src_module=topcat&src_tab_page_id=page_goods_group1674927724827&src_identifier=fc%3DWomen%60sc%3DTOPS%60tc%3D0%60oc%3D0%60ps%3Dtab01navbar06%60jc%3Dreal_1766&srctype=category&userpath=category-TOPS\""
   ]
  },
  {
   "cell_type": "code",
   "execution_count": 7,
   "id": "f4b2d2b5",
   "metadata": {},
   "outputs": [
    {
     "data": {
      "text/plain": [
       "'https://il.shein.com/Women-Tops,-Blouses-Tee-c-1766.html?ici=ilen_tab01navbar06&scici=navbar_WomenHomePage~~tab01navbar06~~6~~real_1766~~~~0&src_module=topcat&src_tab_page_id=page_goods_group1674927724827&src_identifier=fc%3DWomen%60sc%3DTOPS%60tc%3D0%60oc%3D0%60ps%3Dtab01navbar06%60jc%3Dreal_1766&srctype=category&userpath=category-TOPS'"
      ]
     },
     "execution_count": 7,
     "metadata": {},
     "output_type": "execute_result"
    }
   ],
   "source": [
    "url"
   ]
  },
  {
   "cell_type": "code",
   "execution_count": 8,
   "id": "cf52352d",
   "metadata": {},
   "outputs": [],
   "source": [
    "driver.get(url)"
   ]
  },
  {
   "cell_type": "code",
   "execution_count": 12,
   "id": "1bfc2260",
   "metadata": {},
   "outputs": [],
   "source": [
    "page_links = []\n",
    "#product-list j-expose__product-list j-product-list-info j-da-event-box\n",
    "prod_page  = driver.find_element(\"xpath\",\"//div[@class='product-list j-expose__product-list j-product-list-info j-da-event-box']\")"
   ]
  },
  {
   "cell_type": "code",
   "execution_count": 13,
   "id": "856ec72b",
   "metadata": {},
   "outputs": [
    {
     "data": {
      "text/plain": [
       "<selenium.webdriver.remote.webelement.WebElement (session=\"97768663a81ab2394fab897420ac55fe\", element=\"75bd3ec8-7e4b-407a-a5a9-4a2e6a180ed6\")>"
      ]
     },
     "execution_count": 13,
     "metadata": {},
     "output_type": "execute_result"
    }
   ],
   "source": [
    "prod_page"
   ]
  },
  {
   "cell_type": "code",
   "execution_count": 14,
   "id": "3e7d9cee",
   "metadata": {},
   "outputs": [],
   "source": [
    "\"S-product-item__name\"\n",
    "linkes = prod_page.find_elements(\"xpath\",\"//div[@class='S-product-item__name']/a\")"
   ]
  },
  {
   "cell_type": "code",
   "execution_count": 15,
   "id": "16bcff7b",
   "metadata": {},
   "outputs": [
    {
     "data": {
      "text/plain": [
       "120"
      ]
     },
     "execution_count": 15,
     "metadata": {},
     "output_type": "execute_result"
    }
   ],
   "source": [
    "len(linkes)"
   ]
  },
  {
   "cell_type": "code",
   "execution_count": 16,
   "id": "8dcab830",
   "metadata": {
    "scrolled": true
   },
   "outputs": [
    {
     "name": "stdout",
     "output_type": "stream",
     "text": [
      "https://il.shein.com/SHEIN-Frenchy-Ruffle-Trim-Mock-Neck-Tee-p-12645129-cat-1738.html?src_identifier=fc%3DWomen%60sc%3DTOPS%60tc%3D0%60oc%3D0%60ps%3Dtab01navbar06%60jc%3Dreal_1766&src_module=topcat&src_tab_page_id=page_goods_group1674927724827&mallCode=1&scici=navbar_WomenHomePage~~tab01navbar06~~6~~real_1766~~~~0\n",
      "https://il.shein.com/Letter-Graphic-Colorblock-Raglan-Sleeve-Tee-p-10830889-cat-1738.html?src_identifier=fc%3DWomen%60sc%3DTOPS%60tc%3D0%60oc%3D0%60ps%3Dtab01navbar06%60jc%3Dreal_1766&src_module=topcat&src_tab_page_id=page_goods_group1674927724827&mallCode=1&scici=navbar_WomenHomePage~~tab01navbar06~~6~~real_1766~~~~0\n",
      "https://il.shein.com/SHEIN-Frenchy-Mock-Neck-Keyhole-Back-Blouse-p-12337688-cat-1733.html?src_identifier=fc%3DWomen%60sc%3DTOPS%60tc%3D0%60oc%3D0%60ps%3Dtab01navbar06%60jc%3Dreal_1766&src_module=topcat&src_tab_page_id=page_goods_group1674927724827&mallCode=1&scici=navbar_WomenHomePage~~tab01navbar06~~6~~real_1766~~~~0\n",
      "https://il.shein.com/Solid-Crop-Tank-Top-p-2000278-cat-1779.html?src_identifier=fc%3DWomen%60sc%3DTOPS%60tc%3D0%60oc%3D0%60ps%3Dtab01navbar06%60jc%3Dreal_1766&src_module=topcat&src_tab_page_id=page_goods_group1674927724827&mallCode=1&scici=navbar_WomenHomePage~~tab01navbar06~~6~~real_1766~~~~0\n",
      "https://il.shein.com/SHEIN-EZwear-Letter-Patched-Drop-Shoulder-Tee-p-12573924-cat-1738.html?src_identifier=fc%3DWomen%60sc%3DTOPS%60tc%3D0%60oc%3D0%60ps%3Dtab01navbar06%60jc%3Dreal_1766&src_module=topcat&src_tab_page_id=page_goods_group1674927724827&mallCode=1&scici=navbar_WomenHomePage~~tab01navbar06~~6~~real_1766~~~~0\n",
      "https://il.shein.com/Sweetheart-Neck-Lantern-Sleeve-Crop-Top-p-3432988-cat-2223.html?src_identifier=fc%3DWomen%60sc%3DTOPS%60tc%3D0%60oc%3D0%60ps%3Dtab01navbar06%60jc%3Dreal_1766&src_module=topcat&src_tab_page_id=page_goods_group1674927724827&mallCode=1&scici=navbar_WomenHomePage~~tab01navbar06~~6~~real_1766~~~~0\n",
      "https://il.shein.com/SHEIN-EZwear-Scoop-Neck-Flounce-Sleeve-Crop-Tee-p-12344002-cat-1738.html?src_identifier=fc%3DWomen%60sc%3DTOPS%60tc%3D0%60oc%3D0%60ps%3Dtab01navbar06%60jc%3Dreal_1766&src_module=topcat&src_tab_page_id=page_goods_group1674927724827&mallCode=1&scici=navbar_WomenHomePage~~tab01navbar06~~6~~real_1766~~~~0\n",
      "https://il.shein.com/Guipure-Lace-Panel-Mock-Neck-Velvet-Blouse-p-11974127-cat-1733.html?src_identifier=fc%3DWomen%60sc%3DTOPS%60tc%3D0%60oc%3D0%60ps%3Dtab01navbar06%60jc%3Dreal_1766&src_module=topcat&src_tab_page_id=page_goods_group1674927724827&mallCode=1&scici=navbar_WomenHomePage~~tab01navbar06~~6~~real_1766~~~~0\n",
      "https://il.shein.com/DAZY-Contrast-Stitching-Drop-Shoulder-Oversized-Tee-p-11726517-cat-1738.html?src_identifier=fc%3DWomen%60sc%3DTOPS%60tc%3D0%60oc%3D0%60ps%3Dtab01navbar06%60jc%3Dreal_1766&src_module=topcat&src_tab_page_id=page_goods_group1674927724827&mallCode=1&scici=navbar_WomenHomePage~~tab01navbar06~~6~~real_1766~~~~0\n",
      "https://il.shein.com/EMERY-ROSE-Cut-And-Sew-Button-Up-Blouse-p-2549084-cat-1733.html?src_identifier=fc%3DWomen%60sc%3DTOPS%60tc%3D0%60oc%3D0%60ps%3Dtab01navbar06%60jc%3Dreal_1766&src_module=topcat&src_tab_page_id=page_goods_group1674927724827&mallCode=1&scici=navbar_WomenHomePage~~tab01navbar06~~6~~real_1766~~~~0\n",
      "https://il.shein.com/DAZY-Solid-Scoop-Neck-Slim-Tee-p-12015942-cat-1738.html?src_identifier=fc%3DWomen%60sc%3DTOPS%60tc%3D0%60oc%3D0%60ps%3Dtab01navbar06%60jc%3Dreal_1766&src_module=topcat&src_tab_page_id=page_goods_group1674927724827&mallCode=1&scici=navbar_WomenHomePage~~tab01navbar06~~6~~real_1766~~~~0\n",
      "https://il.shein.com/SHEIN-BAE-Butterfly-Embroidery-Mesh-Back-Velvet-Cami-Top-p-12593611-cat-1779.html?src_identifier=fc%3DWomen%60sc%3DTOPS%60tc%3D0%60oc%3D0%60ps%3Dtab01navbar06%60jc%3Dreal_1766&src_module=topcat&src_tab_page_id=page_goods_group1674927724827&mallCode=1&scici=navbar_WomenHomePage~~tab01navbar06~~6~~real_1766~~~~0\n",
      "https://il.shein.com/SHEIN-EZwear-2pcs-V-Neck-Solid-Tee-p-3570906-cat-1738.html?src_identifier=fc%3DWomen%60sc%3DTOPS%60tc%3D0%60oc%3D0%60ps%3Dtab01navbar06%60jc%3Dreal_1766&src_module=topcat&src_tab_page_id=page_goods_group1674927724827&mallCode=1&scici=navbar_WomenHomePage~~tab01navbar06~~6~~real_1766~~~~0\n",
      "https://il.shein.com/Mock-Neck-Lettuce-Trim-Tee-p-12776432-cat-1738.html?src_identifier=fc%3DWomen%60sc%3DTOPS%60tc%3D0%60oc%3D0%60ps%3Dtab01navbar06%60jc%3Dreal_1766&src_module=topcat&src_tab_page_id=page_goods_group1674927724827&mallCode=1&scici=navbar_WomenHomePage~~tab01navbar06~~6~~real_1766~~~~0\n",
      "https://il.shein.com/SHEIN-EZwear-Two-Tone-Striped-Top-p-3216965-cat-1738.html?src_identifier=fc%3DWomen%60sc%3DTOPS%60tc%3D0%60oc%3D0%60ps%3Dtab01navbar06%60jc%3Dreal_1766&src_module=topcat&src_tab_page_id=page_goods_group1674927724827&mallCode=1&scici=navbar_WomenHomePage~~tab01navbar06~~6~~real_1766~~~~0\n",
      "https://il.shein.com/Mock-Neck-Ruched-Tee-p-7426022-cat-1738.html?src_identifier=fc%3DWomen%60sc%3DTOPS%60tc%3D0%60oc%3D0%60ps%3Dtab01navbar06%60jc%3Dreal_1766&src_module=topcat&src_tab_page_id=page_goods_group1674927724827&mallCode=1&scici=navbar_WomenHomePage~~tab01navbar06~~6~~real_1766~~~~0\n",
      "https://il.shein.com/DAZY-Solid-Drop-Shoulder-Tee-p-10972335-cat-1738.html?src_identifier=fc%3DWomen%60sc%3DTOPS%60tc%3D0%60oc%3D0%60ps%3Dtab01navbar06%60jc%3Dreal_1766&src_module=topcat&src_tab_page_id=page_goods_group1674927724827&mallCode=1&scici=navbar_WomenHomePage~~tab01navbar06~~6~~real_1766~~~~0\n",
      "https://il.shein.com/SHEIN-EZwear-Turtleneck-Lantern-Sleeve-Crop-Tee-p-12008513-cat-1738.html?src_identifier=fc%3DWomen%60sc%3DTOPS%60tc%3D0%60oc%3D0%60ps%3Dtab01navbar06%60jc%3Dreal_1766&src_module=topcat&src_tab_page_id=page_goods_group1674927724827&mallCode=1&scici=navbar_WomenHomePage~~tab01navbar06~~6~~real_1766~~~~0\n",
      "https://il.shein.com/Plaid-Flap-Pocket-Drop-Shoulder-Shirt-p-11813985-cat-1733.html?src_identifier=fc%3DWomen%60sc%3DTOPS%60tc%3D0%60oc%3D0%60ps%3Dtab01navbar06%60jc%3Dreal_1766&src_module=topcat&src_tab_page_id=page_goods_group1674927724827&mallCode=1&scici=navbar_WomenHomePage~~tab01navbar06~~6~~real_1766~~~~0\n",
      "https://il.shein.com/SHEIN-Modely-Contrast-Fuzzy-Asymmetrical-Neck-Satin-Blouse-p-12675475-cat-1733.html?src_identifier=fc%3DWomen%60sc%3DTOPS%60tc%3D0%60oc%3D0%60ps%3Dtab01navbar06%60jc%3Dreal_1766&src_module=topcat&src_tab_page_id=page_goods_group1674927724827&mallCode=1&scici=navbar_WomenHomePage~~tab01navbar06~~6~~real_1766~~~~0\n",
      "https://il.shein.com/DAZY-Drop-Shoulder-Pocket-Front-Corduroy-Shirt-p-10948252-cat-1733.html?src_identifier=fc%3DWomen%60sc%3DTOPS%60tc%3D0%60oc%3D0%60ps%3Dtab01navbar06%60jc%3Dreal_1766&src_module=topcat&src_tab_page_id=page_goods_group1674927724827&mallCode=1&scici=navbar_WomenHomePage~~tab01navbar06~~6~~real_1766~~~~0\n",
      "https://il.shein.com/SHEIN-EZwear-Striped-Print-Drop-Shoulder-Tee-p-12241734-cat-1738.html?src_identifier=fc%3DWomen%60sc%3DTOPS%60tc%3D0%60oc%3D0%60ps%3Dtab01navbar06%60jc%3Dreal_1766&src_module=topcat&src_tab_page_id=page_goods_group1674927724827&mallCode=1&scici=navbar_WomenHomePage~~tab01navbar06~~6~~real_1766~~~~0\n",
      "https://il.shein.com/SHEIN-You-Are-My-Happiness-Graphic-Tank-Top-p-1184177-cat-1779.html?src_identifier=fc%3DWomen%60sc%3DTOPS%60tc%3D0%60oc%3D0%60ps%3Dtab01navbar06%60jc%3Dreal_1766&src_module=topcat&src_tab_page_id=page_goods_group1674927724827&mallCode=1&scici=navbar_WomenHomePage~~tab01navbar06~~6~~real_1766~~~~0\n",
      "https://il.shein.com/Allover-Print-Notched-Neck-Bishop-Sleeve-Blouse-p-11779867-cat-1733.html?src_identifier=fc%3DWomen%60sc%3DTOPS%60tc%3D0%60oc%3D0%60ps%3Dtab01navbar06%60jc%3Dreal_1766&src_module=topcat&src_tab_page_id=page_goods_group1674927724827&mallCode=1&scici=navbar_WomenHomePage~~tab01navbar06~~6~~real_1766~~~~0\n",
      "https://il.shein.com/SHEIN-EZwear-Letter-Figure-Graphic-Drop-Shoulder-Tee-p-12053616-cat-1738.html?src_identifier=fc%3DWomen%60sc%3DTOPS%60tc%3D0%60oc%3D0%60ps%3Dtab01navbar06%60jc%3Dreal_1766&src_module=topcat&src_tab_page_id=page_goods_group1674927724827&mallCode=1&scici=navbar_WomenHomePage~~tab01navbar06~~6~~real_1766~~~~0\n",
      "https://il.shein.com/Solid-Button-Front-Shirt-p-3003539-cat-1733.html?src_identifier=fc%3DWomen%60sc%3DTOPS%60tc%3D0%60oc%3D0%60ps%3Dtab01navbar06%60jc%3Dreal_1766&src_module=topcat&src_tab_page_id=page_goods_group1674927724827&mallCode=1&scici=navbar_WomenHomePage~~tab01navbar06~~6~~real_1766~~~~0\n",
      "https://il.shein.com/Draped-Surplice-Neck-Shirred-Cuff-Bishop-Sleeve-Blouse-p-11772943-cat-1733.html?src_identifier=fc%3DWomen%60sc%3DTOPS%60tc%3D0%60oc%3D0%60ps%3Dtab01navbar06%60jc%3Dreal_1766&src_module=topcat&src_tab_page_id=page_goods_group1674927724827&mallCode=1&scici=navbar_WomenHomePage~~tab01navbar06~~6~~real_1766~~~~0\n",
      "https://il.shein.com/SHEIN-Unity-Cut-Out-Mock-Neck-Lantern-Sleeve-Tee-p-11859078-cat-1738.html?src_identifier=fc%3DWomen%60sc%3DTOPS%60tc%3D0%60oc%3D0%60ps%3Dtab01navbar06%60jc%3Dreal_1766&src_module=topcat&src_tab_page_id=page_goods_group1674927724827&mallCode=1&scici=navbar_WomenHomePage~~tab01navbar06~~6~~real_1766~~~~0\n",
      "https://il.shein.com/SHEIN-Unity-Long-Sleeve-Rib-knit-Solid-Top-p-5750297-cat-1738.html?src_identifier=fc%3DWomen%60sc%3DTOPS%60tc%3D0%60oc%3D0%60ps%3Dtab01navbar06%60jc%3Dreal_1766&src_module=topcat&src_tab_page_id=page_goods_group1674927724827&mallCode=1&scici=navbar_WomenHomePage~~tab01navbar06~~6~~real_1766~~~~0\n",
      "https://il.shein.com/SHEIN-EZwear-Slogan-Cherry-Graphic-Crop-T-Shirt-p-10000117-cat-1738.html?src_identifier=fc%3DWomen%60sc%3DTOPS%60tc%3D0%60oc%3D0%60ps%3Dtab01navbar06%60jc%3Dreal_1766&src_module=topcat&src_tab_page_id=page_goods_group1674927724827&mallCode=1&scici=navbar_WomenHomePage~~tab01navbar06~~6~~real_1766~~~~0\n",
      "https://il.shein.com/DAZY-Slogan-Graphic-Drop-Shoulder-Tee-p-12566099-cat-1738.html?src_identifier=fc%3DWomen%60sc%3DTOPS%60tc%3D0%60oc%3D0%60ps%3Dtab01navbar06%60jc%3Dreal_1766&src_module=topcat&src_tab_page_id=page_goods_group1674927724827&mallCode=1&scici=navbar_WomenHomePage~~tab01navbar06~~6~~real_1766~~~~0\n",
      "https://il.shein.com/SHEIN-SXY-Solid-Crop-Fitted-Tee-p-4194876-cat-1738.html?src_identifier=fc%3DWomen%60sc%3DTOPS%60tc%3D0%60oc%3D0%60ps%3Dtab01navbar06%60jc%3Dreal_1766&src_module=topcat&src_tab_page_id=page_goods_group1674927724827&mallCode=1&scici=navbar_WomenHomePage~~tab01navbar06~~6~~real_1766~~~~0\n",
      "https://il.shein.com/Frilled-Neck-Flounce-Sleeve-Blouse-p-12713563-cat-1733.html?src_identifier=fc%3DWomen%60sc%3DTOPS%60tc%3D0%60oc%3D0%60ps%3Dtab01navbar06%60jc%3Dreal_1766&src_module=topcat&src_tab_page_id=page_goods_group1674927724827&mallCode=1&scici=navbar_WomenHomePage~~tab01navbar06~~6~~real_1766~~~~0\n",
      "https://il.shein.com/DAZY-Half-Button-Rib-Knit-Crop-Tee-p-11484916-cat-1738.html?src_identifier=fc%3DWomen%60sc%3DTOPS%60tc%3D0%60oc%3D0%60ps%3Dtab01navbar06%60jc%3Dreal_1766&src_module=topcat&src_tab_page_id=page_goods_group1674927724827&mallCode=1&scici=navbar_WomenHomePage~~tab01navbar06~~6~~real_1766~~~~0\n",
      "https://il.shein.com/DAZY-Half-Button-Crop-Tee-p-11945864-cat-1738.html?src_identifier=fc%3DWomen%60sc%3DTOPS%60tc%3D0%60oc%3D0%60ps%3Dtab01navbar06%60jc%3Dreal_1766&src_module=topcat&src_tab_page_id=page_goods_group1674927724827&mallCode=1&scici=navbar_WomenHomePage~~tab01navbar06~~6~~real_1766~~~~0\n",
      "https://il.shein.com/SHEIN-MOD-Knot-Front-Lantern-Sleeve-Bandana-Hem-Crop-Blouse-p-12602014-cat-1733.html?src_identifier=fc%3DWomen%60sc%3DTOPS%60tc%3D0%60oc%3D0%60ps%3Dtab01navbar06%60jc%3Dreal_1766&src_module=topcat&src_tab_page_id=page_goods_group1674927724827&mallCode=1&scici=navbar_WomenHomePage~~tab01navbar06~~6~~real_1766~~~~0\n",
      "https://il.shein.com/Button-Front-Plaid-Drawstring-Hooded-Blouse-p-5863017-cat-1733.html?src_identifier=fc%3DWomen%60sc%3DTOPS%60tc%3D0%60oc%3D0%60ps%3Dtab01navbar06%60jc%3Dreal_1766&src_module=topcat&src_tab_page_id=page_goods_group1674927724827&mallCode=1&scici=navbar_WomenHomePage~~tab01navbar06~~6~~real_1766~~~~0\n",
      "https://il.shein.com/Sheer-Fishnet-Metallic-Top-p-12495684-cat-2223.html?src_identifier=fc%3DWomen%60sc%3DTOPS%60tc%3D0%60oc%3D0%60ps%3Dtab01navbar06%60jc%3Dreal_1766&src_module=topcat&src_tab_page_id=page_goods_group1674927724827&mallCode=1&scici=navbar_WomenHomePage~~tab01navbar06~~6~~real_1766~~~~0\n",
      "https://il.shein.com/4pcs-Scoop-Neck-Ribbed-Knit-Tee-p-5484322-cat-1738.html?src_identifier=fc%3DWomen%60sc%3DTOPS%60tc%3D0%60oc%3D0%60ps%3Dtab01navbar06%60jc%3Dreal_1766&src_module=topcat&src_tab_page_id=page_goods_group1674927724827&mallCode=1&scici=navbar_WomenHomePage~~tab01navbar06~~6~~real_1766~~~~0\n",
      "https://il.shein.com/SHEIN-MOD-Lettuce-Trim-Foldover-Off-Shoulder-Flounce-Sleeve-Crop-Tee-p-12445157-cat-1738.html?src_identifier=fc%3DWomen%60sc%3DTOPS%60tc%3D0%60oc%3D0%60ps%3Dtab01navbar06%60jc%3Dreal_1766&src_module=topcat&src_tab_page_id=page_goods_group1674927724827&mallCode=1&scici=navbar_WomenHomePage~~tab01navbar06~~6~~real_1766~~~~0\n",
      "https://il.shein.com/SHEIN-EZwear-3-Pack-Solid-Crop-Tank-Top-p-3213506-cat-1779.html?src_identifier=fc%3DWomen%60sc%3DTOPS%60tc%3D0%60oc%3D0%60ps%3Dtab01navbar06%60jc%3Dreal_1766&src_module=topcat&src_tab_page_id=page_goods_group1674927724827&mallCode=1&scici=navbar_WomenHomePage~~tab01navbar06~~6~~real_1766~~~~0\n",
      "https://il.shein.com/Lantern-Sleeve-Rib-Knit-Peplum-Tee-p-12468937-cat-1738.html?src_identifier=fc%3DWomen%60sc%3DTOPS%60tc%3D0%60oc%3D0%60ps%3Dtab01navbar06%60jc%3Dreal_1766&src_module=topcat&src_tab_page_id=page_goods_group1674927724827&mallCode=1&scici=navbar_WomenHomePage~~tab01navbar06~~6~~real_1766~~~~0\n",
      "https://il.shein.com/DAZY-Striped-Drop-Shoulder-Tee-p-11315093-cat-1738.html?src_identifier=fc%3DWomen%60sc%3DTOPS%60tc%3D0%60oc%3D0%60ps%3Dtab01navbar06%60jc%3Dreal_1766&src_module=topcat&src_tab_page_id=page_goods_group1674927724827&mallCode=1&scici=navbar_WomenHomePage~~tab01navbar06~~6~~real_1766~~~~0\n",
      "https://il.shein.com/Letter-Graphic-Striped-Trim-Drop-Shoulder-Tee-p-10106856-cat-1738.html?src_identifier=fc%3DWomen%60sc%3DTOPS%60tc%3D0%60oc%3D0%60ps%3Dtab01navbar06%60jc%3Dreal_1766&src_module=topcat&src_tab_page_id=page_goods_group1674927724827&mallCode=1&scici=navbar_WomenHomePage~~tab01navbar06~~6~~real_1766~~~~0\n",
      "https://il.shein.com/DAZY-Two-Tone-Rib-knit-Tee-p-11284596-cat-1738.html?src_identifier=fc%3DWomen%60sc%3DTOPS%60tc%3D0%60oc%3D0%60ps%3Dtab01navbar06%60jc%3Dreal_1766&src_module=topcat&src_tab_page_id=page_goods_group1674927724827&mallCode=1&scici=navbar_WomenHomePage~~tab01navbar06~~6~~real_1766~~~~0\n",
      "https://il.shein.com/SHEIN-BAE-Solid-Crop-Cami-Top-p-2303424-cat-1779.html?src_identifier=fc%3DWomen%60sc%3DTOPS%60tc%3D0%60oc%3D0%60ps%3Dtab01navbar06%60jc%3Dreal_1766&src_module=topcat&src_tab_page_id=page_goods_group1674927724827&mallCode=1&scici=navbar_WomenHomePage~~tab01navbar06~~6~~real_1766~~~~0\n",
      "https://il.shein.com/SHEIN-Unity-Backless-Batwing-Sleeve-Solid-Tee-p-10702416-cat-1738.html?src_identifier=fc%3DWomen%60sc%3DTOPS%60tc%3D0%60oc%3D0%60ps%3Dtab01navbar06%60jc%3Dreal_1766&src_module=topcat&src_tab_page_id=page_goods_group1674927724827&mallCode=1&scici=navbar_WomenHomePage~~tab01navbar06~~6~~real_1766~~~~0\n",
      "https://il.shein.com/SHEIN-EZwear-Lace-Trim-Cami-Top-p-10388391-cat-1779.html?src_identifier=fc%3DWomen%60sc%3DTOPS%60tc%3D0%60oc%3D0%60ps%3Dtab01navbar06%60jc%3Dreal_1766&src_module=topcat&src_tab_page_id=page_goods_group1674927724827&mallCode=1&scici=navbar_WomenHomePage~~tab01navbar06~~6~~real_1766~~~~0\n",
      "https://il.shein.com/SHEIN-EZwear-Lettuce-Trim-Flounce-Sleeve-Tee-p-2766333-cat-1738.html?src_identifier=fc%3DWomen%60sc%3DTOPS%60tc%3D0%60oc%3D0%60ps%3Dtab01navbar06%60jc%3Dreal_1766&src_module=topcat&src_tab_page_id=page_goods_group1674927724827&mallCode=1&scici=navbar_WomenHomePage~~tab01navbar06~~6~~real_1766~~~~0\n",
      "https://il.shein.com/1pc-Solid-Bustier-Crop-Cami-Top-p-11418153-cat-1779.html?src_identifier=fc%3DWomen%60sc%3DTOPS%60tc%3D0%60oc%3D0%60ps%3Dtab01navbar06%60jc%3Dreal_1766&src_module=topcat&src_tab_page_id=page_goods_group1674927724827&mallCode=1&scici=navbar_WomenHomePage~~tab01navbar06~~6~~real_1766~~~~0\n",
      "https://il.shein.com/SHEIN-SXY-Solid-Bishop-Sleeve-Tee-p-11333588-cat-1738.html?src_identifier=fc%3DWomen%60sc%3DTOPS%60tc%3D0%60oc%3D0%60ps%3Dtab01navbar06%60jc%3Dreal_1766&src_module=topcat&src_tab_page_id=page_goods_group1674927724827&mallCode=1&scici=navbar_WomenHomePage~~tab01navbar06~~6~~real_1766~~~~0\n",
      "https://il.shein.com/DAZY-Eagle-Letter-Graphic-Lace-Trim-Tank-Top-p-11919115-cat-1779.html?src_identifier=fc%3DWomen%60sc%3DTOPS%60tc%3D0%60oc%3D0%60ps%3Dtab01navbar06%60jc%3Dreal_1766&src_module=topcat&src_tab_page_id=page_goods_group1674927724827&mallCode=1&scici=navbar_WomenHomePage~~tab01navbar06~~6~~real_1766~~~~0\n",
      "https://il.shein.com/SHEIN-Frenchy-Square-Neck-Lantern-Sleeve-Rib-knit-Tee-p-11726521-cat-1738.html?src_identifier=fc%3DWomen%60sc%3DTOPS%60tc%3D0%60oc%3D0%60ps%3Dtab01navbar06%60jc%3Dreal_1766&src_module=topcat&src_tab_page_id=page_goods_group1674927724827&mallCode=1&scici=navbar_WomenHomePage~~tab01navbar06~~6~~real_1766~~~~0\n",
      "https://il.shein.com/Solid-Puff-Sleeve-Button-Front-Shirt-p-3686601-cat-1733.html?src_identifier=fc%3DWomen%60sc%3DTOPS%60tc%3D0%60oc%3D0%60ps%3Dtab01navbar06%60jc%3Dreal_1766&src_module=topcat&src_tab_page_id=page_goods_group1674927724827&mallCode=1&scici=navbar_WomenHomePage~~tab01navbar06~~6~~real_1766~~~~0\n",
      "https://il.shein.com/SHEIN-EZwear-Square-Neck-Ruched-Side-Crop-Tee-p-12046800-cat-1738.html?src_identifier=fc%3DWomen%60sc%3DTOPS%60tc%3D0%60oc%3D0%60ps%3Dtab01navbar06%60jc%3Dreal_1766&src_module=topcat&src_tab_page_id=page_goods_group1674927724827&mallCode=1&scici=navbar_WomenHomePage~~tab01navbar06~~6~~real_1766~~~~0\n",
      "https://il.shein.com/SHEIN-Drop-Shoulder-Button-Up-Corduroy-Blouse-p-3013214-cat-1733.html?src_identifier=fc%3DWomen%60sc%3DTOPS%60tc%3D0%60oc%3D0%60ps%3Dtab01navbar06%60jc%3Dreal_1766&src_module=topcat&src_tab_page_id=page_goods_group1674927724827&mallCode=1&scici=navbar_WomenHomePage~~tab01navbar06~~6~~real_1766~~~~0\n",
      "https://il.shein.com/Letter-Graphic-Drop-Shoulder-Shirt-p-12594589-cat-1733.html?src_identifier=fc%3DWomen%60sc%3DTOPS%60tc%3D0%60oc%3D0%60ps%3Dtab01navbar06%60jc%3Dreal_1766&src_module=topcat&src_tab_page_id=page_goods_group1674927724827&mallCode=1&scici=navbar_WomenHomePage~~tab01navbar06~~6~~real_1766~~~~0\n"
     ]
    },
    {
     "name": "stdout",
     "output_type": "stream",
     "text": [
      "https://il.shein.com/Flap-Detail-Solid-Cord-Shirt-p-3090089-cat-1733.html?src_identifier=fc%3DWomen%60sc%3DTOPS%60tc%3D0%60oc%3D0%60ps%3Dtab01navbar06%60jc%3Dreal_1766&src_module=topcat&src_tab_page_id=page_goods_group1674927724827&mallCode=1&scici=navbar_WomenHomePage~~tab01navbar06~~6~~real_1766~~~~0\n",
      "https://il.shein.com/DAZY-Embroidery-Detail-Mock-Neck-Flannel-Tee-p-12114557-cat-1738.html?src_identifier=fc%3DWomen%60sc%3DTOPS%60tc%3D0%60oc%3D0%60ps%3Dtab01navbar06%60jc%3Dreal_1766&src_module=topcat&src_tab_page_id=page_goods_group1674927724827&mallCode=1&scici=navbar_WomenHomePage~~tab01navbar06~~6~~real_1766~~~~0\n",
      "https://il.shein.com/SHEIN-Frenchy-Turtleneck-Bishop-Sleeve-Tee-p-11919041-cat-1738.html?src_identifier=fc%3DWomen%60sc%3DTOPS%60tc%3D0%60oc%3D0%60ps%3Dtab01navbar06%60jc%3Dreal_1766&src_module=topcat&src_tab_page_id=page_goods_group1674927724827&mallCode=1&scici=navbar_WomenHomePage~~tab01navbar06~~6~~real_1766~~~~0\n",
      "https://il.shein.com/SHEIN-Unity-Solid-V-Neck-Batwing-Sleeve-Tee-p-12203220-cat-1738.html?src_identifier=fc%3DWomen%60sc%3DTOPS%60tc%3D0%60oc%3D0%60ps%3Dtab01navbar06%60jc%3Dreal_1766&src_module=topcat&src_tab_page_id=page_goods_group1674927724827&mallCode=1&scici=navbar_WomenHomePage~~tab01navbar06~~6~~real_1766~~~~0\n",
      "https://il.shein.com/SHEIN-SXY-Solid-Round-Neck-Crop-Tee-p-10948347-cat-1738.html?src_identifier=fc%3DWomen%60sc%3DTOPS%60tc%3D0%60oc%3D0%60ps%3Dtab01navbar06%60jc%3Dreal_1766&src_module=topcat&src_tab_page_id=page_goods_group1674927724827&mallCode=1&scici=navbar_WomenHomePage~~tab01navbar06~~6~~real_1766~~~~0\n",
      "https://il.shein.com/Drop-Shoulder-Oversized-Solid-Tee-p-11590073-cat-1738.html?src_identifier=fc%3DWomen%60sc%3DTOPS%60tc%3D0%60oc%3D0%60ps%3Dtab01navbar06%60jc%3Dreal_1766&src_module=topcat&src_tab_page_id=page_goods_group1674927724827&mallCode=1&scici=navbar_WomenHomePage~~tab01navbar06~~6~~real_1766~~~~0\n",
      "https://il.shein.com/Allover-Print-V-Neck-Blouse-p-11726531-cat-1733.html?src_identifier=fc%3DWomen%60sc%3DTOPS%60tc%3D0%60oc%3D0%60ps%3Dtab01navbar06%60jc%3Dreal_1766&src_module=topcat&src_tab_page_id=page_goods_group1674927724827&mallCode=1&scici=navbar_WomenHomePage~~tab01navbar06~~6~~real_1766~~~~0\n",
      "https://il.shein.com/SHEIN-ICON-Contrast-Mesh-Mock-Neck-Crop-Tee-p-12643789-cat-1738.html?src_identifier=fc%3DWomen%60sc%3DTOPS%60tc%3D0%60oc%3D0%60ps%3Dtab01navbar06%60jc%3Dreal_1766&src_module=topcat&src_tab_page_id=page_goods_group1674927724827&mallCode=1&scici=navbar_WomenHomePage~~tab01navbar06~~6~~real_1766~~~~0\n",
      "https://il.shein.com/Solid-Batwing-Sleeve-Blouse-p-12225310-cat-1733.html?src_identifier=fc%3DWomen%60sc%3DTOPS%60tc%3D0%60oc%3D0%60ps%3Dtab01navbar06%60jc%3Dreal_1766&src_module=topcat&src_tab_page_id=page_goods_group1674927724827&mallCode=1&scici=navbar_WomenHomePage~~tab01navbar06~~6~~real_1766~~~~0\n",
      "https://il.shein.com/SHEIN-EZwear-V-Neck-Argyle-Print-Tank-Crop-Top-p-10958421-cat-1779.html?src_identifier=fc%3DWomen%60sc%3DTOPS%60tc%3D0%60oc%3D0%60ps%3Dtab01navbar06%60jc%3Dreal_1766&src_module=topcat&src_tab_page_id=page_goods_group1674927724827&mallCode=1&scici=navbar_WomenHomePage~~tab01navbar06~~6~~real_1766~~~~0\n",
      "https://il.shein.com/SHEIN-ICON-Solid-Ribbed-Knit-Crop-Top-p-12017499-cat-2223.html?src_identifier=fc%3DWomen%60sc%3DTOPS%60tc%3D0%60oc%3D0%60ps%3Dtab01navbar06%60jc%3Dreal_1766&src_module=topcat&src_tab_page_id=page_goods_group1674927724827&mallCode=1&scici=navbar_WomenHomePage~~tab01navbar06~~6~~real_1766~~~~0\n",
      "https://il.shein.com/SHEIN-ICON-Twist-Front-Textured-Crop-Tube-Top-p-11015141-cat-2223.html?src_identifier=fc%3DWomen%60sc%3DTOPS%60tc%3D0%60oc%3D0%60ps%3Dtab01navbar06%60jc%3Dreal_1766&src_module=topcat&src_tab_page_id=page_goods_group1674927724827&mallCode=1&scici=navbar_WomenHomePage~~tab01navbar06~~6~~real_1766~~~~0\n",
      "https://il.shein.com/SHEIN-BIZwear-Solid-Rib-knit-Tee-p-12738687-cat-1738.html?src_identifier=fc%3DWomen%60sc%3DTOPS%60tc%3D0%60oc%3D0%60ps%3Dtab01navbar06%60jc%3Dreal_1766&src_module=topcat&src_tab_page_id=page_goods_group1674927724827&mallCode=1&scici=navbar_WomenHomePage~~tab01navbar06~~6~~real_1766~~~~0\n",
      "https://il.shein.com/SHEIN-MOD-Solid-Corduroy-Cami-Top-Without-Shirt-p-11397270-cat-1779.html?src_identifier=fc%3DWomen%60sc%3DTOPS%60tc%3D0%60oc%3D0%60ps%3Dtab01navbar06%60jc%3Dreal_1766&src_module=topcat&src_tab_page_id=page_goods_group1674927724827&mallCode=1&scici=navbar_WomenHomePage~~tab01navbar06~~6~~real_1766~~~~0\n",
      "https://il.shein.com/DAZY-Ruffle-Trim-Lantern-Sleeve-Blouse-p-11543118-cat-1733.html?src_identifier=fc%3DWomen%60sc%3DTOPS%60tc%3D0%60oc%3D0%60ps%3Dtab01navbar06%60jc%3Dreal_1766&src_module=topcat&src_tab_page_id=page_goods_group1674927724827&mallCode=1&scici=navbar_WomenHomePage~~tab01navbar06~~6~~real_1766~~~~0\n",
      "https://il.shein.com/Striped-Notched-Neck-Lantern-Sleeve-Ruched-Knot-Side-Crop-Blouse-p-12493283-cat-1733.html?src_identifier=fc%3DWomen%60sc%3DTOPS%60tc%3D0%60oc%3D0%60ps%3Dtab01navbar06%60jc%3Dreal_1766&src_module=topcat&src_tab_page_id=page_goods_group1674927724827&mallCode=1&scici=navbar_WomenHomePage~~tab01navbar06~~6~~real_1766~~~~0\n",
      "https://il.shein.com/Leopard-Print-Spliced-Button-Up-Shirt-p-3304115-cat-1733.html?src_identifier=fc%3DWomen%60sc%3DTOPS%60tc%3D0%60oc%3D0%60ps%3Dtab01navbar06%60jc%3Dreal_1766&src_module=topcat&src_tab_page_id=page_goods_group1674927724827&mallCode=1&scici=navbar_WomenHomePage~~tab01navbar06~~6~~real_1766~~~~0\n",
      "https://il.shein.com/SHEIN-EZwear-Solid-Rib-knit-Drop-Shoulder-Tee-p-11884808-cat-1738.html?src_identifier=fc%3DWomen%60sc%3DTOPS%60tc%3D0%60oc%3D0%60ps%3Dtab01navbar06%60jc%3Dreal_1766&src_module=topcat&src_tab_page_id=page_goods_group1674927724827&mallCode=1&scici=navbar_WomenHomePage~~tab01navbar06~~6~~real_1766~~~~0\n",
      "https://il.shein.com/EMERY-ROSE-Guipure-Lace-Insert-Lantern-Sleeve-Blouse-p-2838800-cat-1733.html?src_identifier=fc%3DWomen%60sc%3DTOPS%60tc%3D0%60oc%3D0%60ps%3Dtab01navbar06%60jc%3Dreal_1766&src_module=topcat&src_tab_page_id=page_goods_group1674927724827&mallCode=1&scici=navbar_WomenHomePage~~tab01navbar06~~6~~real_1766~~~~0\n",
      "https://il.shein.com/SHEIN-PETITE-Solid-Ruched-Asymmetrical-Hem-Tee-p-12268588-cat-1738.html?src_identifier=fc%3DWomen%60sc%3DTOPS%60tc%3D0%60oc%3D0%60ps%3Dtab01navbar06%60jc%3Dreal_1766&src_module=topcat&src_tab_page_id=page_goods_group1674927724827&mallCode=1&scici=navbar_WomenHomePage~~tab01navbar06~~6~~real_1766~~~~0\n",
      "https://il.shein.com/SHEIN-EZwear-Striped-Print-Scoop-Neck-Crop-Tee-p-12546560-cat-1738.html?src_identifier=fc%3DWomen%60sc%3DTOPS%60tc%3D0%60oc%3D0%60ps%3Dtab01navbar06%60jc%3Dreal_1766&src_module=topcat&src_tab_page_id=page_goods_group1674927724827&mallCode=1&scici=navbar_WomenHomePage~~tab01navbar06~~6~~real_1766~~~~0\n",
      "https://il.shein.com/Plaid-O-ring-Zipper-Cold-Shoulder-Blouse-p-8423222-cat-1733.html?src_identifier=fc%3DWomen%60sc%3DTOPS%60tc%3D0%60oc%3D0%60ps%3Dtab01navbar06%60jc%3Dreal_1766&src_module=topcat&src_tab_page_id=page_goods_group1674927724827&mallCode=1&scici=navbar_WomenHomePage~~tab01navbar06~~6~~real_1766~~~~0\n",
      "https://il.shein.com/SHEIN-PETITE-Hanky-Hem-Lace-Up-Back-Crop-Tube-Top-p-11387875-cat-2223.html?src_identifier=fc%3DWomen%60sc%3DTOPS%60tc%3D0%60oc%3D0%60ps%3Dtab01navbar06%60jc%3Dreal_1766&src_module=topcat&src_tab_page_id=page_goods_group1674927724827&mallCode=1&scici=navbar_WomenHomePage~~tab01navbar06~~6~~real_1766~~~~0\n",
      "https://il.shein.com/SHEIN-EZwear-Letter-Embroidery-Drop-Shoulder-Oversized-Tee-p-12274039-cat-1738.html?src_identifier=fc%3DWomen%60sc%3DTOPS%60tc%3D0%60oc%3D0%60ps%3Dtab01navbar06%60jc%3Dreal_1766&src_module=topcat&src_tab_page_id=page_goods_group1674927724827&mallCode=1&scici=navbar_WomenHomePage~~tab01navbar06~~6~~real_1766~~~~0\n",
      "https://il.shein.com/SHEIN-MOD-Solid-Cami-Crop-Top-p-11344009-cat-1779.html?src_identifier=fc%3DWomen%60sc%3DTOPS%60tc%3D0%60oc%3D0%60ps%3Dtab01navbar06%60jc%3Dreal_1766&src_module=topcat&src_tab_page_id=page_goods_group1674927724827&mallCode=1&scici=navbar_WomenHomePage~~tab01navbar06~~6~~real_1766~~~~0\n",
      "https://il.shein.com/Two-Tone-Asymmetrical-Neck-Tee-p-11786048-cat-1738.html?src_identifier=fc%3DWomen%60sc%3DTOPS%60tc%3D0%60oc%3D0%60ps%3Dtab01navbar06%60jc%3Dreal_1766&src_module=topcat&src_tab_page_id=page_goods_group1674927724827&mallCode=1&scici=navbar_WomenHomePage~~tab01navbar06~~6~~real_1766~~~~0\n",
      "https://il.shein.com/SHEIN-EZwear-Asymmetrical-Hem-Rib-knit-Crop-Tank-Top-p-2223333-cat-1779.html?src_identifier=fc%3DWomen%60sc%3DTOPS%60tc%3D0%60oc%3D0%60ps%3Dtab01navbar06%60jc%3Dreal_1766&src_module=topcat&src_tab_page_id=page_goods_group1674927724827&mallCode=1&scici=navbar_WomenHomePage~~tab01navbar06~~6~~real_1766~~~~0\n",
      "https://il.shein.com/DAZY-Tie-Dye-Letter-Patched-Detail-Crop-Top-Without-Cami-Top-p-12746267-cat-2223.html?src_identifier=fc%3DWomen%60sc%3DTOPS%60tc%3D0%60oc%3D0%60ps%3Dtab01navbar06%60jc%3Dreal_1766&src_module=topcat&src_tab_page_id=page_goods_group1674927724827&mallCode=1&scici=navbar_WomenHomePage~~tab01navbar06~~6~~real_1766~~~~0\n"
     ]
    },
    {
     "name": "stdout",
     "output_type": "stream",
     "text": [
      "https://il.shein.com/SHEIN-PETITE-Tie-Back-Asymmetrical-Hem-Cami-Top-p-5003632-cat-1779.html?src_identifier=fc%3DWomen%60sc%3DTOPS%60tc%3D0%60oc%3D0%60ps%3Dtab01navbar06%60jc%3Dreal_1766&src_module=topcat&src_tab_page_id=page_goods_group1674927724827&mallCode=1&scici=navbar_WomenHomePage~~tab01navbar06~~6~~real_1766~~~~0\n",
      "https://il.shein.com/SHEIN-EZwear-Lettuce-Trim-Crop-Tee-p-11496760-cat-1738.html?src_identifier=fc%3DWomen%60sc%3DTOPS%60tc%3D0%60oc%3D0%60ps%3Dtab01navbar06%60jc%3Dreal_1766&src_module=topcat&src_tab_page_id=page_goods_group1674927724827&mallCode=1&scici=navbar_WomenHomePage~~tab01navbar06~~6~~real_1766~~~~0\n",
      "https://il.shein.com/DAZY-Solid-Snap-Button-Front-Tee-p-11303314-cat-1738.html?src_identifier=fc%3DWomen%60sc%3DTOPS%60tc%3D0%60oc%3D0%60ps%3Dtab01navbar06%60jc%3Dreal_1766&src_module=topcat&src_tab_page_id=page_goods_group1674927724827&mallCode=1&scici=navbar_WomenHomePage~~tab01navbar06~~6~~real_1766~~~~0\n",
      "https://il.shein.com/Ruffle-Trim-Mock-Neck-Bishop-Sleeve-Blouse-p-12422397-cat-1733.html?src_identifier=fc%3DWomen%60sc%3DTOPS%60tc%3D0%60oc%3D0%60ps%3Dtab01navbar06%60jc%3Dreal_1766&src_module=topcat&src_tab_page_id=page_goods_group1674927724827&mallCode=1&scici=navbar_WomenHomePage~~tab01navbar06~~6~~real_1766~~~~0\n",
      "https://il.shein.com/SHEIN-SXY-Striped-Print-Crop-Tank-Top-p-10703743-cat-1779.html?src_identifier=fc%3DWomen%60sc%3DTOPS%60tc%3D0%60oc%3D0%60ps%3Dtab01navbar06%60jc%3Dreal_1766&src_module=topcat&src_tab_page_id=page_goods_group1674927724827&mallCode=1&scici=navbar_WomenHomePage~~tab01navbar06~~6~~real_1766~~~~0\n",
      "https://il.shein.com/DAZY-Solid-Drop-Shoulder-Crop-Tee-p-11292090-cat-1738.html?src_identifier=fc%3DWomen%60sc%3DTOPS%60tc%3D0%60oc%3D0%60ps%3Dtab01navbar06%60jc%3Dreal_1766&src_module=topcat&src_tab_page_id=page_goods_group1674927724827&mallCode=1&scici=navbar_WomenHomePage~~tab01navbar06~~6~~real_1766~~~~0\n",
      "https://il.shein.com/SHEIN-Frenchy-Allover-Print-Curved-Hem-Shirt-p-7303542-cat-1733.html?src_identifier=fc%3DWomen%60sc%3DTOPS%60tc%3D0%60oc%3D0%60ps%3Dtab01navbar06%60jc%3Dreal_1766&src_module=topcat&src_tab_page_id=page_goods_group1674927724827&mallCode=1&scici=navbar_WomenHomePage~~tab01navbar06~~6~~real_1766~~~~0\n",
      "https://il.shein.com/DAZY-Striped-Letter-Patched-Detail-Drop-Shoulder-Tee-p-11258644-cat-1738.html?src_identifier=fc%3DWomen%60sc%3DTOPS%60tc%3D0%60oc%3D0%60ps%3Dtab01navbar06%60jc%3Dreal_1766&src_module=topcat&src_tab_page_id=page_goods_group1674927724827&mallCode=1&scici=navbar_WomenHomePage~~tab01navbar06~~6~~real_1766~~~~0\n",
      "https://il.shein.com/Allover-Print-Button-Up-Satin-Shirt-p-3297545-cat-1733.html?src_identifier=fc%3DWomen%60sc%3DTOPS%60tc%3D0%60oc%3D0%60ps%3Dtab01navbar06%60jc%3Dreal_1766&src_module=topcat&src_tab_page_id=page_goods_group1674927724827&mallCode=1&scici=navbar_WomenHomePage~~tab01navbar06~~6~~real_1766~~~~0\n",
      "https://il.shein.com/SHEIN-EZwear-Drop-Shoulder-Crop-Top-p-1583237-cat-1738.html?src_identifier=fc%3DWomen%60sc%3DTOPS%60tc%3D0%60oc%3D0%60ps%3Dtab01navbar06%60jc%3Dreal_1766&src_module=topcat&src_tab_page_id=page_goods_group1674927724827&mallCode=1&scici=navbar_WomenHomePage~~tab01navbar06~~6~~real_1766~~~~0\n",
      "https://il.shein.com/SHEIN-BIZwear-Fold-Pleated-Solid-Top-p-4009486-cat-1733.html?src_identifier=fc%3DWomen%60sc%3DTOPS%60tc%3D0%60oc%3D0%60ps%3Dtab01navbar06%60jc%3Dreal_1766&src_module=topcat&src_tab_page_id=page_goods_group1674927724827&mallCode=1&scici=navbar_WomenHomePage~~tab01navbar06~~6~~real_1766~~~~0\n",
      "https://il.shein.com/DAZY-Solid-Scoop-Neck-Tee-p-11930986-cat-1738.html?src_identifier=fc%3DWomen%60sc%3DTOPS%60tc%3D0%60oc%3D0%60ps%3Dtab01navbar06%60jc%3Dreal_1766&src_module=topcat&src_tab_page_id=page_goods_group1674927724827&mallCode=1&scici=navbar_WomenHomePage~~tab01navbar06~~6~~real_1766~~~~0\n",
      "https://il.shein.com/SHEIN-EZwear-Scoop-Neck-Rib-knit-Crop-Tee-p-12010155-cat-1738.html?src_identifier=fc%3DWomen%60sc%3DTOPS%60tc%3D0%60oc%3D0%60ps%3Dtab01navbar06%60jc%3Dreal_1766&src_module=topcat&src_tab_page_id=page_goods_group1674927724827&mallCode=1&scici=navbar_WomenHomePage~~tab01navbar06~~6~~real_1766~~~~0\n",
      "https://il.shein.com/DAZY-Solid-High-Neck-Tee-p-11603855-cat-1738.html?src_identifier=fc%3DWomen%60sc%3DTOPS%60tc%3D0%60oc%3D0%60ps%3Dtab01navbar06%60jc%3Dreal_1766&src_module=topcat&src_tab_page_id=page_goods_group1674927724827&mallCode=1&scici=navbar_WomenHomePage~~tab01navbar06~~6~~real_1766~~~~0\n",
      "https://il.shein.com/SHEIN-EZwear-Lettuce-Trim-Flannel-Tank-Top-p-11521456-cat-1779.html?src_identifier=fc%3DWomen%60sc%3DTOPS%60tc%3D0%60oc%3D0%60ps%3Dtab01navbar06%60jc%3Dreal_1766&src_module=topcat&src_tab_page_id=page_goods_group1674927724827&mallCode=1&scici=navbar_WomenHomePage~~tab01navbar06~~6~~real_1766~~~~0\n",
      "https://il.shein.com/DAZY-Mock-Neck-Lantern-Sleeve-Lace-Top-p-12093608-cat-2223.html?src_identifier=fc%3DWomen%60sc%3DTOPS%60tc%3D0%60oc%3D0%60ps%3Dtab01navbar06%60jc%3Dreal_1766&src_module=topcat&src_tab_page_id=page_goods_group1674927724827&mallCode=1&scici=navbar_WomenHomePage~~tab01navbar06~~6~~real_1766~~~~0\n",
      "https://il.shein.com/Ombre-Drop-Shoulder-Button-Front-Shirt-p-12637148-cat-1733.html?src_identifier=fc%3DWomen%60sc%3DTOPS%60tc%3D0%60oc%3D0%60ps%3Dtab01navbar06%60jc%3Dreal_1766&src_module=topcat&src_tab_page_id=page_goods_group1674927724827&mallCode=1&scici=navbar_WomenHomePage~~tab01navbar06~~6~~real_1766~~~~0\n",
      "https://il.shein.com/Frill-Neck-Pleated-Button-Up-Blouse-p-3131936-cat-1733.html?src_identifier=fc%3DWomen%60sc%3DTOPS%60tc%3D0%60oc%3D0%60ps%3Dtab01navbar06%60jc%3Dreal_1766&src_module=topcat&src_tab_page_id=page_goods_group1674927724827&mallCode=1&scici=navbar_WomenHomePage~~tab01navbar06~~6~~real_1766~~~~0\n",
      "https://il.shein.com/SHEIN-BASICS-Solid-Drop-Shoulder-Crop-Tee-p-12770758-cat-1738.html?src_identifier=fc%3DWomen%60sc%3DTOPS%60tc%3D0%60oc%3D0%60ps%3Dtab01navbar06%60jc%3Dreal_1766&src_module=topcat&src_tab_page_id=page_goods_group1674927724827&mallCode=1&scici=navbar_WomenHomePage~~tab01navbar06~~6~~real_1766~~~~0\n",
      "https://il.shein.com/Surplice-Neck-Satin-Shirt-p-11418471-cat-1733.html?src_identifier=fc%3DWomen%60sc%3DTOPS%60tc%3D0%60oc%3D0%60ps%3Dtab01navbar06%60jc%3Dreal_1766&src_module=topcat&src_tab_page_id=page_goods_group1674927724827&mallCode=1&scici=navbar_WomenHomePage~~tab01navbar06~~6~~real_1766~~~~0\n",
      "https://il.shein.com/SHEIN-EZwear-Letter-Graphic-Drop-Shoulder-Shirt-p-12566739-cat-1733.html?src_identifier=fc%3DWomen%60sc%3DTOPS%60tc%3D0%60oc%3D0%60ps%3Dtab01navbar06%60jc%3Dreal_1766&src_module=topcat&src_tab_page_id=page_goods_group1674927724827&mallCode=1&scici=navbar_WomenHomePage~~tab01navbar06~~6~~real_1766~~~~0\n",
      "https://il.shein.com/SHEIN-ICON-Solid-PU-Leather-Crop-Cami-Top-p-11110633-cat-1779.html?src_identifier=fc%3DWomen%60sc%3DTOPS%60tc%3D0%60oc%3D0%60ps%3Dtab01navbar06%60jc%3Dreal_1766&src_module=topcat&src_tab_page_id=page_goods_group1674927724827&mallCode=1&scici=navbar_WomenHomePage~~tab01navbar06~~6~~real_1766~~~~0\n",
      "https://il.shein.com/SHEIN-EZwear-Flap-Pocket-Twist-Hem-Crop-Blouse-p-12483574-cat-1733.html?src_identifier=fc%3DWomen%60sc%3DTOPS%60tc%3D0%60oc%3D0%60ps%3Dtab01navbar06%60jc%3Dreal_1766&src_module=topcat&src_tab_page_id=page_goods_group1674927724827&mallCode=1&scici=navbar_WomenHomePage~~tab01navbar06~~6~~real_1766~~~~0\n",
      "https://il.shein.com/Chain-Detail-Back-Metallic-Cami-Top-p-2205612-cat-1779.html?src_identifier=fc%3DWomen%60sc%3DTOPS%60tc%3D0%60oc%3D0%60ps%3Dtab01navbar06%60jc%3Dreal_1766&src_module=topcat&src_tab_page_id=page_goods_group1674927724827&mallCode=1&scici=navbar_WomenHomePage~~tab01navbar06~~6~~real_1766~~~~0\n",
      "https://il.shein.com/SHEIN-MOD-Letter-Graphic-Cut-Out-Tee-p-11648850-cat-1738.html?src_identifier=fc%3DWomen%60sc%3DTOPS%60tc%3D0%60oc%3D0%60ps%3Dtab01navbar06%60jc%3Dreal_1766&src_module=topcat&src_tab_page_id=page_goods_group1674927724827&mallCode=1&scici=navbar_WomenHomePage~~tab01navbar06~~6~~real_1766~~~~0\n",
      "https://il.shein.com/SHEIN-Unity-Crisscross-Tied-Backless-Hanky-Hem-Cami-Top-p-9790309-cat-1779.html?src_identifier=fc%3DWomen%60sc%3DTOPS%60tc%3D0%60oc%3D0%60ps%3Dtab01navbar06%60jc%3Dreal_1766&src_module=topcat&src_tab_page_id=page_goods_group1674927724827&mallCode=1&scici=navbar_WomenHomePage~~tab01navbar06~~6~~real_1766~~~~0\n",
      "https://il.shein.com/SHEIN-Ribbed-Long-Sleeve-Semi-Cropped-Tee-p-1536326-cat-1738.html?src_identifier=fc%3DWomen%60sc%3DTOPS%60tc%3D0%60oc%3D0%60ps%3Dtab01navbar06%60jc%3Dreal_1766&src_module=topcat&src_tab_page_id=page_goods_group1674927724827&mallCode=1&scici=navbar_WomenHomePage~~tab01navbar06~~6~~real_1766~~~~0\n",
      "https://il.shein.com/SHEIN-EZwear-3pcs-Solid-Backless-Halter-Top-p-3224659-cat-1779.html?src_identifier=fc%3DWomen%60sc%3DTOPS%60tc%3D0%60oc%3D0%60ps%3Dtab01navbar06%60jc%3Dreal_1766&src_module=topcat&src_tab_page_id=page_goods_group1674927724827&mallCode=1&scici=navbar_WomenHomePage~~tab01navbar06~~6~~real_1766~~~~0\n",
      "https://il.shein.com/SHEIN-Unity-Drop-Shoulder-Ribbed-Knit-Tee-p-12240850-cat-1738.html?src_identifier=fc%3DWomen%60sc%3DTOPS%60tc%3D0%60oc%3D0%60ps%3Dtab01navbar06%60jc%3Dreal_1766&src_module=topcat&src_tab_page_id=page_goods_group1674927724827&mallCode=1&scici=navbar_WomenHomePage~~tab01navbar06~~6~~real_1766~~~~0\n",
      "https://il.shein.com/Gathered-Waist-Curved-Hem-Longline-Shirt-p-1019216-cat-1733.html?src_identifier=fc%3DWomen%60sc%3DTOPS%60tc%3D0%60oc%3D0%60ps%3Dtab01navbar06%60jc%3Dreal_1766&src_module=topcat&src_tab_page_id=page_goods_group1674927724827&mallCode=1&scici=navbar_WomenHomePage~~tab01navbar06~~6~~real_1766~~~~0\n",
      "https://il.shein.com/Solid-Button-Through-Satin-Shirt-p-1863925-cat-1733.html?src_identifier=fc%3DWomen%60sc%3DTOPS%60tc%3D0%60oc%3D0%60ps%3Dtab01navbar06%60jc%3Dreal_1766&src_module=topcat&src_tab_page_id=page_goods_group1674927724827&mallCode=1&scici=navbar_WomenHomePage~~tab01navbar06~~6~~real_1766~~~~0\n",
      "https://il.shein.com/Solid-High-Low-Hem-Sleeveless-Blouse-p-12587283-cat-1733.html?src_identifier=fc%3DWomen%60sc%3DTOPS%60tc%3D0%60oc%3D0%60ps%3Dtab01navbar06%60jc%3Dreal_1766&src_module=topcat&src_tab_page_id=page_goods_group1674927724827&mallCode=1&scici=navbar_WomenHomePage~~tab01navbar06~~6~~real_1766~~~~0\n",
      "https://il.shein.com/Striped-Print-V-Neck-Tee-p-11204540-cat-1738.html?src_identifier=fc%3DWomen%60sc%3DTOPS%60tc%3D0%60oc%3D0%60ps%3Dtab01navbar06%60jc%3Dreal_1766&src_module=topcat&src_tab_page_id=page_goods_group1674927724827&mallCode=1&scici=navbar_WomenHomePage~~tab01navbar06~~6~~real_1766~~~~0\n",
      "https://il.shein.com/DAZY-Sequin-Drop-Shoulder-Tee-p-12691388-cat-1738.html?src_identifier=fc%3DWomen%60sc%3DTOPS%60tc%3D0%60oc%3D0%60ps%3Dtab01navbar06%60jc%3Dreal_1766&src_module=topcat&src_tab_page_id=page_goods_group1674927724827&mallCode=1&scici=navbar_WomenHomePage~~tab01navbar06~~6~~real_1766~~~~0\n",
      "https://il.shein.com/SHEIN-EZwear-Slogan-Cactus-Print-Colorblock-Raglan-Sleeve-Tee-p-11213246-cat-1738.html?src_identifier=fc%3DWomen%60sc%3DTOPS%60tc%3D0%60oc%3D0%60ps%3Dtab01navbar06%60jc%3Dreal_1766&src_module=topcat&src_tab_page_id=page_goods_group1674927724827&mallCode=1&scici=navbar_WomenHomePage~~tab01navbar06~~6~~real_1766~~~~0\n"
     ]
    }
   ],
   "source": [
    "for l in linkes:\n",
    "    print(l.get_attribute('href'))"
   ]
  },
  {
   "cell_type": "code",
   "execution_count": 17,
   "id": "720733f6",
   "metadata": {},
   "outputs": [],
   "source": [
    "linkes = [ l.get_attribute('href') for l in linkes] "
   ]
  },
  {
   "cell_type": "code",
   "execution_count": 18,
   "id": "d777650e",
   "metadata": {},
   "outputs": [
    {
     "data": {
      "text/plain": [
       "'https://il.shein.com/SHEIN-Unity-Crisscross-Tied-Backless-Hanky-Hem-Cami-Top-p-9790309-cat-1779.html?src_identifier=fc%3DWomen%60sc%3DTOPS%60tc%3D0%60oc%3D0%60ps%3Dtab01navbar06%60jc%3Dreal_1766&src_module=topcat&src_tab_page_id=page_goods_group1674927724827&mallCode=1&scici=navbar_WomenHomePage~~tab01navbar06~~6~~real_1766~~~~0'"
      ]
     },
     "execution_count": 18,
     "metadata": {},
     "output_type": "execute_result"
    }
   ],
   "source": [
    "linkes[0]"
   ]
  },
  {
   "cell_type": "code",
   "execution_count": 19,
   "id": "8ecb6ef1",
   "metadata": {},
   "outputs": [],
   "source": [
    "driver.close()"
   ]
  },
  {
   "cell_type": "code",
   "execution_count": 20,
   "id": "6bf66912",
   "metadata": {},
   "outputs": [
    {
     "data": {
      "text/plain": [
       "['Color:',\n",
       " 'Style:',\n",
       " 'Pattern Type:',\n",
       " 'Type:',\n",
       " 'Fabric:',\n",
       " 'Material:',\n",
       " 'Composition:',\n",
       " 'Care Instructions:',\n",
       " 'rating',\n",
       " 'price',\n",
       " 'category']"
      ]
     },
     "execution_count": 20,
     "metadata": {},
     "output_type": "execute_result"
    }
   ],
   "source": [
    "properties = {'Color:': 'Cadet Blue ',\n",
    " 'Style:': 'Modest ',\n",
    " 'Pattern Type:': 'Plain ',\n",
    " 'Type:': 'A Line ',\n",
    " 'Fabric:': 'Non-Stretch ',\n",
    " 'Material:': 'Woven Fabric ',\n",
    " 'Composition:': '100% Polyester ',\n",
    " 'Care Instructions:': 'Machine wash or professional dry clean ',}\n",
    "properties = list(properties.keys())\n",
    "properties.extend(['rating','price', 'category'])\n",
    "properties"
   ]
  },
  {
   "cell_type": "code",
   "execution_count": 41,
   "id": "77fa031b",
   "metadata": {},
   "outputs": [],
   "source": [
    "#price = driver.find_element(\"xpath\",\"//div[@class='from']/span\")\n",
    "#price.get_attribute('innerHTML')"
   ]
  },
  {
   "cell_type": "code",
   "execution_count": 21,
   "id": "5d3c40f2",
   "metadata": {},
   "outputs": [
    {
     "data": {
      "text/plain": [
       "['Color:',\n",
       " 'Style:',\n",
       " 'Pattern Type:',\n",
       " 'Type:',\n",
       " 'Fabric:',\n",
       " 'Material:',\n",
       " 'Composition:',\n",
       " 'Care Instructions:',\n",
       " 'rating',\n",
       " 'price',\n",
       " 'category']"
      ]
     },
     "execution_count": 21,
     "metadata": {},
     "output_type": "execute_result"
    }
   ],
   "source": [
    "properties"
   ]
  },
  {
   "cell_type": "code",
   "execution_count": 22,
   "id": "d729eddc",
   "metadata": {},
   "outputs": [
    {
     "data": {
      "text/plain": [
       "120"
      ]
     },
     "execution_count": 22,
     "metadata": {},
     "output_type": "execute_result"
    }
   ],
   "source": [
    "len(linkes)"
   ]
  },
  {
   "cell_type": "code",
   "execution_count": 23,
   "id": "cc10dfa9",
   "metadata": {},
   "outputs": [],
   "source": [
    "page_links = []"
   ]
  },
  {
   "cell_type": "code",
   "execution_count": null,
   "id": "00064e61",
   "metadata": {},
   "outputs": [],
   "source": [
    "for i in range(len(linkes[:110])):  # crawling\n",
    "    all_products = []\n",
    "    options = webdriver.ChromeOptions()\n",
    "    options.binary_location = \"/Applications/Google Chrome.app/Contents/MacOS/Google Chrome\"\n",
    "    options.add_argument(\"--enable-javascript\")\n",
    "    driver = webdriver.Chrome(p, options=options)\n",
    "    product_dict = {}\n",
    "    print('currently opening:', linkes[i])\n",
    "    driver.get(linkes[i])\n",
    "    product_descriptions = driver.find_elements(\"xpath\",\"//div[@class='product-intro__description-table-item']\")\n",
    "    for i in range(len(product_descriptions)):\n",
    "        key = product_descriptions[i].find_element(\"class name\", \"key\").get_attribute('innerHTML')\n",
    "        val = product_descriptions[i].find_element(\"class name\", \"val\").get_attribute('textContent')\n",
    "        product_dict[key] = val\n",
    "        print(key,\":\", val)\n",
    "    price = driver.find_element(\"xpath\",\"//div[@class='from']/span\")\n",
    "    price = price.get_attribute('innerHTML')\n",
    "    rating = driver.find_element(\"xpath\",\"//div[@class='rate-num']\")\n",
    "    rating = rating.get_attribute('innerHTML')\n",
    "    product_dict['rating'] = rating\n",
    "    product_dict['price'] = price\n",
    "    product_dict['category'] = 'Top'\n",
    "    print('rating',\":\", rating)\n",
    "    print('price',\":\", price)\n",
    "    all_products.append(product_dict)\n",
    "    driver.close()\n",
    "    for i,d in enumerate(all_products):\n",
    "        all_products[i] = {key: d[key] for key in properties}\n",
    "    df = pd.DataFrame(all_products)\n",
    "    df.to_csv('shein_data.csv',index=False, mode='a',header=False)"
   ]
  },
  {
   "cell_type": "code",
   "execution_count": 210,
   "id": "30aa4c99",
   "metadata": {},
   "outputs": [],
   "source": [
    "#df=pd.DataFrame(all_products) #save crawling\n",
    "#df.to_csv('shein_data.csv')"
   ]
  },
  {
   "cell_type": "code",
   "execution_count": 33,
   "id": "da0d890c",
   "metadata": {},
   "outputs": [],
   "source": [
    "df_old = pd.read_csv('shein_data2.csv')"
   ]
  },
  {
   "cell_type": "code",
   "execution_count": 44,
   "id": "f42cd115",
   "metadata": {},
   "outputs": [
    {
     "data": {
      "text/html": [
       "<div>\n",
       "<style scoped>\n",
       "    .dataframe tbody tr th:only-of-type {\n",
       "        vertical-align: middle;\n",
       "    }\n",
       "\n",
       "    .dataframe tbody tr th {\n",
       "        vertical-align: top;\n",
       "    }\n",
       "\n",
       "    .dataframe thead th {\n",
       "        text-align: right;\n",
       "    }\n",
       "</style>\n",
       "<table border=\"1\" class=\"dataframe\">\n",
       "  <thead>\n",
       "    <tr style=\"text-align: right;\">\n",
       "      <th></th>\n",
       "      <th>Color:</th>\n",
       "      <th>Style:</th>\n",
       "      <th>Pattern Type:</th>\n",
       "      <th>Type:</th>\n",
       "      <th>Fabric:</th>\n",
       "      <th>Material:</th>\n",
       "      <th>Composition:</th>\n",
       "      <th>Care Instructions:</th>\n",
       "      <th>rating</th>\n",
       "      <th>price</th>\n",
       "    </tr>\n",
       "  </thead>\n",
       "  <tbody>\n",
       "    <tr>\n",
       "      <th>261</th>\n",
       "      <td>Multicolor</td>\n",
       "      <td>Elegant</td>\n",
       "      <td>Tie Dye</td>\n",
       "      <td>Cami</td>\n",
       "      <td>Medium Stretch</td>\n",
       "      <td>Flannelette</td>\n",
       "      <td>100% Polyester</td>\n",
       "      <td>Hand wash,do not dry clean</td>\n",
       "      <td>4.85</td>\n",
       "      <td>₪69.00</td>\n",
       "    </tr>\n",
       "    <tr>\n",
       "      <th>262</th>\n",
       "      <td>Black</td>\n",
       "      <td>Casual</td>\n",
       "      <td>Plain</td>\n",
       "      <td>Smock</td>\n",
       "      <td>Non-Stretch</td>\n",
       "      <td>Fabric</td>\n",
       "      <td>95% Polyester, 5% Elastane</td>\n",
       "      <td>Machine wash or professional dry clean</td>\n",
       "      <td>4.93</td>\n",
       "      <td>₪59.00</td>\n",
       "    </tr>\n",
       "    <tr>\n",
       "      <th>263</th>\n",
       "      <td>Brown</td>\n",
       "      <td>Elegant</td>\n",
       "      <td>Marble</td>\n",
       "      <td>Shirt</td>\n",
       "      <td>Non-Stretch</td>\n",
       "      <td>Fabric</td>\n",
       "      <td>100% Polyester</td>\n",
       "      <td>Machine wash or professional dry clean</td>\n",
       "      <td>4.87</td>\n",
       "      <td>₪79.00</td>\n",
       "    </tr>\n",
       "    <tr>\n",
       "      <th>264</th>\n",
       "      <td>Multicolor</td>\n",
       "      <td>Elegant</td>\n",
       "      <td>All Over Print</td>\n",
       "      <td>A Line</td>\n",
       "      <td>Non-Stretch</td>\n",
       "      <td>Woven Fabric</td>\n",
       "      <td>97% Polyester, 3% Elastane</td>\n",
       "      <td>Machine wash or professional dry clean</td>\n",
       "      <td>5.00</td>\n",
       "      <td>₪79.00</td>\n",
       "    </tr>\n",
       "    <tr>\n",
       "      <th>265</th>\n",
       "      <td>Hot Pink</td>\n",
       "      <td>Cute</td>\n",
       "      <td>Plain</td>\n",
       "      <td>A Line</td>\n",
       "      <td>Non-Stretch</td>\n",
       "      <td>Woven Fabric</td>\n",
       "      <td>95% Polyester, 5% Elastane</td>\n",
       "      <td>Machine wash or professional dry clean</td>\n",
       "      <td>0.00</td>\n",
       "      <td>₪49.00</td>\n",
       "    </tr>\n",
       "  </tbody>\n",
       "</table>\n",
       "</div>"
      ],
      "text/plain": [
       "          Color:    Style:    Pattern Type:    Type:          Fabric:  \\\n",
       "261  Multicolor   Elegant          Tie Dye     Cami   Medium Stretch    \n",
       "262       Black    Casual            Plain    Smock      Non-Stretch    \n",
       "263       Brown   Elegant           Marble    Shirt      Non-Stretch    \n",
       "264  Multicolor   Elegant   All Over Print   A Line      Non-Stretch    \n",
       "265    Hot Pink      Cute            Plain   A Line      Non-Stretch    \n",
       "\n",
       "         Material:                 Composition:  \\\n",
       "261   Flannelette               100% Polyester    \n",
       "262        Fabric   95% Polyester, 5% Elastane    \n",
       "263        Fabric               100% Polyester    \n",
       "264  Woven Fabric   97% Polyester, 3% Elastane    \n",
       "265  Woven Fabric   95% Polyester, 5% Elastane    \n",
       "\n",
       "                          Care Instructions:  rating   price  \n",
       "261              Hand wash,do not dry clean     4.85  ₪69.00  \n",
       "262  Machine wash or professional dry clean     4.93  ₪59.00  \n",
       "263  Machine wash or professional dry clean     4.87  ₪79.00  \n",
       "264  Machine wash or professional dry clean     5.00  ₪79.00  \n",
       "265  Machine wash or professional dry clean     0.00  ₪49.00  "
      ]
     },
     "execution_count": 44,
     "metadata": {},
     "output_type": "execute_result"
    }
   ],
   "source": [
    "df_new = pd.read_csv('shane_data_all.csv')"
   ]
  }
 ],
 "metadata": {
  "kernelspec": {
   "display_name": "Python 3 (ipykernel)",
   "language": "python",
   "name": "python3"
  },
  "language_info": {
   "codemirror_mode": {
    "name": "ipython",
    "version": 3
   },
   "file_extension": ".py",
   "mimetype": "text/x-python",
   "name": "python",
   "nbconvert_exporter": "python",
   "pygments_lexer": "ipython3",
   "version": "3.9.13"
  }
 },
 "nbformat": 4,
 "nbformat_minor": 5
}
