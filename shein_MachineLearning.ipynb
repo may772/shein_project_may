{
 "cells": [
  {
   "cell_type": "code",
   "execution_count": 1,
   "id": "61082cd7",
   "metadata": {},
   "outputs": [],
   "source": [
    "import os                           # for testing use only\n",
    "import pandas as pd\n",
    "import numpy as np\n",
    "import matplotlib as mpl\n",
    "import matplotlib.pyplot as plt      \n",
    "import math\n",
    "import seaborn as sns\n",
    "from collections import Counter\n",
    "from sklearn.decomposition import PCA\n",
    "from sklearn.preprocessing import OneHotEncoder,LabelEncoder\n",
    "from sklearn.metrics import accuracy_score\n",
    "from sklearn.linear_model import LinearRegression\n",
    "from sklearn.model_selection import train_test_split\n",
    "from sklearn.ensemble import RandomForestRegressor\n",
    "from sklearn.metrics import mean_absolute_error, r2_score, mean_squared_error\n",
    "from sklearn.neighbors import KNeighborsRegressor\n",
    "from sklearn.svm import SVR\n",
    "from sklearn.ensemble import GradientBoostingRegressor\n",
    "%matplotlib inline"
   ]
  },
  {
   "cell_type": "code",
   "execution_count": 2,
   "id": "5731bfd7",
   "metadata": {},
   "outputs": [],
   "source": [
    "shein_df = pd.read_csv('shein_df_final.csv')"
   ]
  },
  {
   "cell_type": "code",
   "execution_count": 3,
   "id": "29cbabd0",
   "metadata": {},
   "outputs": [
    {
     "data": {
      "text/html": [
       "<div>\n",
       "<style scoped>\n",
       "    .dataframe tbody tr th:only-of-type {\n",
       "        vertical-align: middle;\n",
       "    }\n",
       "\n",
       "    .dataframe tbody tr th {\n",
       "        vertical-align: top;\n",
       "    }\n",
       "\n",
       "    .dataframe thead th {\n",
       "        text-align: right;\n",
       "    }\n",
       "</style>\n",
       "<table border=\"1\" class=\"dataframe\">\n",
       "  <thead>\n",
       "    <tr style=\"text-align: right;\">\n",
       "      <th></th>\n",
       "      <th>Color</th>\n",
       "      <th>Style</th>\n",
       "      <th>Pattern Type</th>\n",
       "      <th>Type</th>\n",
       "      <th>Fabric</th>\n",
       "      <th>Material</th>\n",
       "      <th>Care Instructions</th>\n",
       "      <th>rating</th>\n",
       "      <th>price</th>\n",
       "      <th>category</th>\n",
       "      <th>...</th>\n",
       "      <th>Spandex</th>\n",
       "      <th>Cotton</th>\n",
       "      <th>Metallized Fibres</th>\n",
       "      <th>Polyamide</th>\n",
       "      <th>Rayon</th>\n",
       "      <th>Silk</th>\n",
       "      <th>Nylon</th>\n",
       "      <th>Cashmere</th>\n",
       "      <th>Linen</th>\n",
       "      <th>Polyurethane</th>\n",
       "    </tr>\n",
       "  </thead>\n",
       "  <tbody>\n",
       "    <tr>\n",
       "      <th>0</th>\n",
       "      <td>Light Grey</td>\n",
       "      <td>Elegant</td>\n",
       "      <td>Plain</td>\n",
       "      <td>Bodycon</td>\n",
       "      <td>Slight Stretch</td>\n",
       "      <td>Fabric</td>\n",
       "      <td>Hand wash or professional dry clean</td>\n",
       "      <td>4.91</td>\n",
       "      <td>39.0</td>\n",
       "      <td>dresses</td>\n",
       "      <td>...</td>\n",
       "      <td>0.0</td>\n",
       "      <td>0.0</td>\n",
       "      <td>0.0</td>\n",
       "      <td>0.0</td>\n",
       "      <td>0.0</td>\n",
       "      <td>0.0</td>\n",
       "      <td>0.0</td>\n",
       "      <td>0.0</td>\n",
       "      <td>0.0</td>\n",
       "      <td>0.0</td>\n",
       "    </tr>\n",
       "    <tr>\n",
       "      <th>1</th>\n",
       "      <td>Mint Green</td>\n",
       "      <td>Boho</td>\n",
       "      <td>Plants, All Over Print</td>\n",
       "      <td>Shirt</td>\n",
       "      <td>Non-Stretch</td>\n",
       "      <td>Fabric</td>\n",
       "      <td>Machine wash or professional dry clean</td>\n",
       "      <td>4.90</td>\n",
       "      <td>79.0</td>\n",
       "      <td>dresses</td>\n",
       "      <td>...</td>\n",
       "      <td>0.0</td>\n",
       "      <td>0.0</td>\n",
       "      <td>0.0</td>\n",
       "      <td>0.0</td>\n",
       "      <td>0.0</td>\n",
       "      <td>0.0</td>\n",
       "      <td>0.0</td>\n",
       "      <td>0.0</td>\n",
       "      <td>0.0</td>\n",
       "      <td>0.0</td>\n",
       "    </tr>\n",
       "    <tr>\n",
       "      <th>2</th>\n",
       "      <td>White</td>\n",
       "      <td>Boho</td>\n",
       "      <td>Floral</td>\n",
       "      <td>A Line</td>\n",
       "      <td>Slight Stretch</td>\n",
       "      <td>Woven Fabric</td>\n",
       "      <td>Machine wash or professional dry clean</td>\n",
       "      <td>4.89</td>\n",
       "      <td>79.0</td>\n",
       "      <td>dresses</td>\n",
       "      <td>...</td>\n",
       "      <td>0.0</td>\n",
       "      <td>0.0</td>\n",
       "      <td>0.0</td>\n",
       "      <td>0.0</td>\n",
       "      <td>0.0</td>\n",
       "      <td>0.0</td>\n",
       "      <td>0.0</td>\n",
       "      <td>0.0</td>\n",
       "      <td>0.0</td>\n",
       "      <td>0.0</td>\n",
       "    </tr>\n",
       "    <tr>\n",
       "      <th>3</th>\n",
       "      <td>Black</td>\n",
       "      <td>Elegant</td>\n",
       "      <td>Plain</td>\n",
       "      <td>A Line</td>\n",
       "      <td>Non-Stretch</td>\n",
       "      <td>Fabric</td>\n",
       "      <td>Hand wash,do not dry clean</td>\n",
       "      <td>4.94</td>\n",
       "      <td>119.0</td>\n",
       "      <td>dresses</td>\n",
       "      <td>...</td>\n",
       "      <td>0.0</td>\n",
       "      <td>0.0</td>\n",
       "      <td>0.0</td>\n",
       "      <td>0.0</td>\n",
       "      <td>0.0</td>\n",
       "      <td>0.0</td>\n",
       "      <td>0.0</td>\n",
       "      <td>0.0</td>\n",
       "      <td>0.0</td>\n",
       "      <td>0.0</td>\n",
       "    </tr>\n",
       "    <tr>\n",
       "      <th>4</th>\n",
       "      <td>Black</td>\n",
       "      <td>Elegant</td>\n",
       "      <td>Plain</td>\n",
       "      <td>Bodycon</td>\n",
       "      <td>Slight Stretch</td>\n",
       "      <td>Flannelette</td>\n",
       "      <td>Machine wash or professional dry clean</td>\n",
       "      <td>4.94</td>\n",
       "      <td>49.0</td>\n",
       "      <td>dresses</td>\n",
       "      <td>...</td>\n",
       "      <td>0.0</td>\n",
       "      <td>0.0</td>\n",
       "      <td>0.0</td>\n",
       "      <td>0.0</td>\n",
       "      <td>0.0</td>\n",
       "      <td>0.0</td>\n",
       "      <td>0.0</td>\n",
       "      <td>0.0</td>\n",
       "      <td>0.0</td>\n",
       "      <td>0.0</td>\n",
       "    </tr>\n",
       "  </tbody>\n",
       "</table>\n",
       "<p>5 rows × 23 columns</p>\n",
       "</div>"
      ],
      "text/plain": [
       "         Color     Style             Pattern Type      Type           Fabric  \\\n",
       "0  Light Grey   Elegant                    Plain   Bodycon   Slight Stretch    \n",
       "1  Mint Green      Boho   Plants, All Over Print     Shirt      Non-Stretch    \n",
       "2       White      Boho                   Floral    A Line   Slight Stretch    \n",
       "3       Black   Elegant                    Plain    A Line      Non-Stretch    \n",
       "4       Black   Elegant                    Plain   Bodycon   Slight Stretch    \n",
       "\n",
       "        Material                        Care Instructions  rating  price  \\\n",
       "0        Fabric      Hand wash or professional dry clean     4.91   39.0   \n",
       "1        Fabric   Machine wash or professional dry clean     4.90   79.0   \n",
       "2  Woven Fabric   Machine wash or professional dry clean     4.89   79.0   \n",
       "3        Fabric               Hand wash,do not dry clean     4.94  119.0   \n",
       "4   Flannelette   Machine wash or professional dry clean     4.94   49.0   \n",
       "\n",
       "  category  ...  Spandex  Cotton  Metallized Fibres  Polyamide  Rayon  Silk  \\\n",
       "0  dresses  ...      0.0     0.0                0.0        0.0    0.0   0.0   \n",
       "1  dresses  ...      0.0     0.0                0.0        0.0    0.0   0.0   \n",
       "2  dresses  ...      0.0     0.0                0.0        0.0    0.0   0.0   \n",
       "3  dresses  ...      0.0     0.0                0.0        0.0    0.0   0.0   \n",
       "4  dresses  ...      0.0     0.0                0.0        0.0    0.0   0.0   \n",
       "\n",
       "   Nylon  Cashmere  Linen  Polyurethane  \n",
       "0    0.0       0.0    0.0           0.0  \n",
       "1    0.0       0.0    0.0           0.0  \n",
       "2    0.0       0.0    0.0           0.0  \n",
       "3    0.0       0.0    0.0           0.0  \n",
       "4    0.0       0.0    0.0           0.0  \n",
       "\n",
       "[5 rows x 23 columns]"
      ]
     },
     "execution_count": 3,
     "metadata": {},
     "output_type": "execute_result"
    }
   ],
   "source": [
    "shein_df.head()"
   ]
  },
  {
   "cell_type": "code",
   "execution_count": 4,
   "id": "61bb07d7",
   "metadata": {},
   "outputs": [
    {
     "data": {
      "text/plain": [
       "(4425, 23)"
      ]
     },
     "execution_count": 4,
     "metadata": {},
     "output_type": "execute_result"
    }
   ],
   "source": [
    "shein_df.shape"
   ]
  },
  {
   "cell_type": "code",
   "execution_count": 5,
   "id": "dc2f7536",
   "metadata": {},
   "outputs": [
    {
     "data": {
      "text/plain": [
       "Color                 object\n",
       "Style                 object\n",
       "Pattern Type          object\n",
       "Type                  object\n",
       "Fabric                object\n",
       "Material              object\n",
       "Care Instructions     object\n",
       "rating               float64\n",
       "price                float64\n",
       "category              object\n",
       "Polyester            float64\n",
       "Elastane             float64\n",
       "Viscose              float64\n",
       "Spandex              float64\n",
       "Cotton               float64\n",
       "Metallized Fibres    float64\n",
       "Polyamide            float64\n",
       "Rayon                float64\n",
       "Silk                 float64\n",
       "Nylon                float64\n",
       "Cashmere             float64\n",
       "Linen                float64\n",
       "Polyurethane         float64\n",
       "dtype: object"
      ]
     },
     "execution_count": 5,
     "metadata": {},
     "output_type": "execute_result"
    }
   ],
   "source": [
    "shein_df.dtypes"
   ]
  },
  {
   "cell_type": "markdown",
   "id": "81bbf677",
   "metadata": {},
   "source": [
    "## Preprecessing"
   ]
  },
  {
   "cell_type": "code",
   "execution_count": 6,
   "id": "9013b8d8",
   "metadata": {},
   "outputs": [],
   "source": [
    "X = shein_df.drop('price',axis=1)\n",
    "y = shein_df['price']"
   ]
  },
  {
   "cell_type": "code",
   "execution_count": 7,
   "id": "b0bda90e",
   "metadata": {},
   "outputs": [],
   "source": [
    "numeric_features = X.select_dtypes(['float64'])\n",
    "categorical_features = X.select_dtypes(['object'])"
   ]
  },
  {
   "cell_type": "code",
   "execution_count": 8,
   "id": "a646c68a",
   "metadata": {},
   "outputs": [
    {
     "data": {
      "text/html": [
       "<div>\n",
       "<style scoped>\n",
       "    .dataframe tbody tr th:only-of-type {\n",
       "        vertical-align: middle;\n",
       "    }\n",
       "\n",
       "    .dataframe tbody tr th {\n",
       "        vertical-align: top;\n",
       "    }\n",
       "\n",
       "    .dataframe thead th {\n",
       "        text-align: right;\n",
       "    }\n",
       "</style>\n",
       "<table border=\"1\" class=\"dataframe\">\n",
       "  <thead>\n",
       "    <tr style=\"text-align: right;\">\n",
       "      <th></th>\n",
       "      <th>rating</th>\n",
       "      <th>Polyester</th>\n",
       "      <th>Elastane</th>\n",
       "      <th>Viscose</th>\n",
       "      <th>Spandex</th>\n",
       "      <th>Cotton</th>\n",
       "      <th>Metallized Fibres</th>\n",
       "      <th>Polyamide</th>\n",
       "      <th>Rayon</th>\n",
       "      <th>Silk</th>\n",
       "      <th>Nylon</th>\n",
       "      <th>Cashmere</th>\n",
       "      <th>Linen</th>\n",
       "      <th>Polyurethane</th>\n",
       "    </tr>\n",
       "  </thead>\n",
       "  <tbody>\n",
       "    <tr>\n",
       "      <th>0</th>\n",
       "      <td>4.91</td>\n",
       "      <td>96.0</td>\n",
       "      <td>4.0</td>\n",
       "      <td>0.0</td>\n",
       "      <td>0.0</td>\n",
       "      <td>0.0</td>\n",
       "      <td>0.0</td>\n",
       "      <td>0.0</td>\n",
       "      <td>0.0</td>\n",
       "      <td>0.0</td>\n",
       "      <td>0.0</td>\n",
       "      <td>0.0</td>\n",
       "      <td>0.0</td>\n",
       "      <td>0.0</td>\n",
       "    </tr>\n",
       "    <tr>\n",
       "      <th>1</th>\n",
       "      <td>4.90</td>\n",
       "      <td>100.0</td>\n",
       "      <td>0.0</td>\n",
       "      <td>0.0</td>\n",
       "      <td>0.0</td>\n",
       "      <td>0.0</td>\n",
       "      <td>0.0</td>\n",
       "      <td>0.0</td>\n",
       "      <td>0.0</td>\n",
       "      <td>0.0</td>\n",
       "      <td>0.0</td>\n",
       "      <td>0.0</td>\n",
       "      <td>0.0</td>\n",
       "      <td>0.0</td>\n",
       "    </tr>\n",
       "    <tr>\n",
       "      <th>2</th>\n",
       "      <td>4.89</td>\n",
       "      <td>95.0</td>\n",
       "      <td>5.0</td>\n",
       "      <td>0.0</td>\n",
       "      <td>0.0</td>\n",
       "      <td>0.0</td>\n",
       "      <td>0.0</td>\n",
       "      <td>0.0</td>\n",
       "      <td>0.0</td>\n",
       "      <td>0.0</td>\n",
       "      <td>0.0</td>\n",
       "      <td>0.0</td>\n",
       "      <td>0.0</td>\n",
       "      <td>0.0</td>\n",
       "    </tr>\n",
       "    <tr>\n",
       "      <th>3</th>\n",
       "      <td>4.94</td>\n",
       "      <td>100.0</td>\n",
       "      <td>0.0</td>\n",
       "      <td>0.0</td>\n",
       "      <td>0.0</td>\n",
       "      <td>0.0</td>\n",
       "      <td>0.0</td>\n",
       "      <td>0.0</td>\n",
       "      <td>0.0</td>\n",
       "      <td>0.0</td>\n",
       "      <td>0.0</td>\n",
       "      <td>0.0</td>\n",
       "      <td>0.0</td>\n",
       "      <td>0.0</td>\n",
       "    </tr>\n",
       "    <tr>\n",
       "      <th>4</th>\n",
       "      <td>4.94</td>\n",
       "      <td>95.0</td>\n",
       "      <td>5.0</td>\n",
       "      <td>0.0</td>\n",
       "      <td>0.0</td>\n",
       "      <td>0.0</td>\n",
       "      <td>0.0</td>\n",
       "      <td>0.0</td>\n",
       "      <td>0.0</td>\n",
       "      <td>0.0</td>\n",
       "      <td>0.0</td>\n",
       "      <td>0.0</td>\n",
       "      <td>0.0</td>\n",
       "      <td>0.0</td>\n",
       "    </tr>\n",
       "  </tbody>\n",
       "</table>\n",
       "</div>"
      ],
      "text/plain": [
       "   rating  Polyester  Elastane  Viscose  Spandex  Cotton  Metallized Fibres  \\\n",
       "0    4.91       96.0       4.0      0.0      0.0     0.0                0.0   \n",
       "1    4.90      100.0       0.0      0.0      0.0     0.0                0.0   \n",
       "2    4.89       95.0       5.0      0.0      0.0     0.0                0.0   \n",
       "3    4.94      100.0       0.0      0.0      0.0     0.0                0.0   \n",
       "4    4.94       95.0       5.0      0.0      0.0     0.0                0.0   \n",
       "\n",
       "   Polyamide  Rayon  Silk  Nylon  Cashmere  Linen  Polyurethane  \n",
       "0        0.0    0.0   0.0    0.0       0.0    0.0           0.0  \n",
       "1        0.0    0.0   0.0    0.0       0.0    0.0           0.0  \n",
       "2        0.0    0.0   0.0    0.0       0.0    0.0           0.0  \n",
       "3        0.0    0.0   0.0    0.0       0.0    0.0           0.0  \n",
       "4        0.0    0.0   0.0    0.0       0.0    0.0           0.0  "
      ]
     },
     "execution_count": 8,
     "metadata": {},
     "output_type": "execute_result"
    }
   ],
   "source": [
    "numeric_features.head()"
   ]
  },
  {
   "cell_type": "code",
   "execution_count": 9,
   "id": "4bae1645",
   "metadata": {},
   "outputs": [
    {
     "data": {
      "text/html": [
       "<div>\n",
       "<style scoped>\n",
       "    .dataframe tbody tr th:only-of-type {\n",
       "        vertical-align: middle;\n",
       "    }\n",
       "\n",
       "    .dataframe tbody tr th {\n",
       "        vertical-align: top;\n",
       "    }\n",
       "\n",
       "    .dataframe thead th {\n",
       "        text-align: right;\n",
       "    }\n",
       "</style>\n",
       "<table border=\"1\" class=\"dataframe\">\n",
       "  <thead>\n",
       "    <tr style=\"text-align: right;\">\n",
       "      <th></th>\n",
       "      <th>Color</th>\n",
       "      <th>Style</th>\n",
       "      <th>Pattern Type</th>\n",
       "      <th>Type</th>\n",
       "      <th>Fabric</th>\n",
       "      <th>Material</th>\n",
       "      <th>Care Instructions</th>\n",
       "      <th>category</th>\n",
       "    </tr>\n",
       "  </thead>\n",
       "  <tbody>\n",
       "    <tr>\n",
       "      <th>0</th>\n",
       "      <td>Light Grey</td>\n",
       "      <td>Elegant</td>\n",
       "      <td>Plain</td>\n",
       "      <td>Bodycon</td>\n",
       "      <td>Slight Stretch</td>\n",
       "      <td>Fabric</td>\n",
       "      <td>Hand wash or professional dry clean</td>\n",
       "      <td>dresses</td>\n",
       "    </tr>\n",
       "    <tr>\n",
       "      <th>1</th>\n",
       "      <td>Mint Green</td>\n",
       "      <td>Boho</td>\n",
       "      <td>Plants, All Over Print</td>\n",
       "      <td>Shirt</td>\n",
       "      <td>Non-Stretch</td>\n",
       "      <td>Fabric</td>\n",
       "      <td>Machine wash or professional dry clean</td>\n",
       "      <td>dresses</td>\n",
       "    </tr>\n",
       "    <tr>\n",
       "      <th>2</th>\n",
       "      <td>White</td>\n",
       "      <td>Boho</td>\n",
       "      <td>Floral</td>\n",
       "      <td>A Line</td>\n",
       "      <td>Slight Stretch</td>\n",
       "      <td>Woven Fabric</td>\n",
       "      <td>Machine wash or professional dry clean</td>\n",
       "      <td>dresses</td>\n",
       "    </tr>\n",
       "    <tr>\n",
       "      <th>3</th>\n",
       "      <td>Black</td>\n",
       "      <td>Elegant</td>\n",
       "      <td>Plain</td>\n",
       "      <td>A Line</td>\n",
       "      <td>Non-Stretch</td>\n",
       "      <td>Fabric</td>\n",
       "      <td>Hand wash,do not dry clean</td>\n",
       "      <td>dresses</td>\n",
       "    </tr>\n",
       "    <tr>\n",
       "      <th>4</th>\n",
       "      <td>Black</td>\n",
       "      <td>Elegant</td>\n",
       "      <td>Plain</td>\n",
       "      <td>Bodycon</td>\n",
       "      <td>Slight Stretch</td>\n",
       "      <td>Flannelette</td>\n",
       "      <td>Machine wash or professional dry clean</td>\n",
       "      <td>dresses</td>\n",
       "    </tr>\n",
       "  </tbody>\n",
       "</table>\n",
       "</div>"
      ],
      "text/plain": [
       "         Color     Style             Pattern Type      Type           Fabric  \\\n",
       "0  Light Grey   Elegant                    Plain   Bodycon   Slight Stretch    \n",
       "1  Mint Green      Boho   Plants, All Over Print     Shirt      Non-Stretch    \n",
       "2       White      Boho                   Floral    A Line   Slight Stretch    \n",
       "3       Black   Elegant                    Plain    A Line      Non-Stretch    \n",
       "4       Black   Elegant                    Plain   Bodycon   Slight Stretch    \n",
       "\n",
       "        Material                        Care Instructions category  \n",
       "0        Fabric      Hand wash or professional dry clean   dresses  \n",
       "1        Fabric   Machine wash or professional dry clean   dresses  \n",
       "2  Woven Fabric   Machine wash or professional dry clean   dresses  \n",
       "3        Fabric               Hand wash,do not dry clean   dresses  \n",
       "4   Flannelette   Machine wash or professional dry clean   dresses  "
      ]
     },
     "execution_count": 9,
     "metadata": {},
     "output_type": "execute_result"
    }
   ],
   "source": [
    "categorical_features.head()"
   ]
  },
  {
   "cell_type": "raw",
   "id": "dc782d2d",
   "metadata": {},
   "source": [
    "['dress','shirts','skirts','pants','dress'] one hot encoding\n",
    "1 0 0 0\n",
    "0 1 0 0\n",
    "0 0 1 0\n",
    "0 0 0 1\n",
    "1 0 0 0"
   ]
  },
  {
   "cell_type": "raw",
   "id": "acb9ff4d",
   "metadata": {},
   "source": [
    "['dress','shirts','skirts','pants','dress'] label encoding\n",
    "0\n",
    "1\n",
    "2\n",
    "3\n",
    "0"
   ]
  },
  {
   "cell_type": "code",
   "execution_count": 10,
   "id": "17746117",
   "metadata": {},
   "outputs": [
    {
     "name": "stderr",
     "output_type": "stream",
     "text": [
      "/Users/mayshviro/opt/anaconda3/lib/python3.9/site-packages/sklearn/utils/deprecation.py:87: FutureWarning: Function get_feature_names is deprecated; get_feature_names is deprecated in 1.0 and will be removed in 1.2. Please use get_feature_names_out instead.\n",
      "  warnings.warn(msg, category=FutureWarning)\n"
     ]
    }
   ],
   "source": [
    "encoder = OneHotEncoder()\n",
    "encoded_categorical = pd.DataFrame(encoder.fit_transform(categorical_features).toarray(),columns = encoder.get_feature_names(categorical_features.columns))"
   ]
  },
  {
   "cell_type": "code",
   "execution_count": 11,
   "id": "4837cccf",
   "metadata": {},
   "outputs": [],
   "source": [
    "# for col in shein_df.columns:\n",
    "#     if shein_df[col].dtype=='object':\n",
    "#         shein_df[col] = shein_df[col].astype('category')"
   ]
  },
  {
   "cell_type": "code",
   "execution_count": 12,
   "id": "7c084d98",
   "metadata": {},
   "outputs": [
    {
     "data": {
      "text/html": [
       "<div>\n",
       "<style scoped>\n",
       "    .dataframe tbody tr th:only-of-type {\n",
       "        vertical-align: middle;\n",
       "    }\n",
       "\n",
       "    .dataframe tbody tr th {\n",
       "        vertical-align: top;\n",
       "    }\n",
       "\n",
       "    .dataframe thead th {\n",
       "        text-align: right;\n",
       "    }\n",
       "</style>\n",
       "<table border=\"1\" class=\"dataframe\">\n",
       "  <thead>\n",
       "    <tr style=\"text-align: right;\">\n",
       "      <th></th>\n",
       "      <th>Color</th>\n",
       "      <th>Style</th>\n",
       "      <th>Pattern Type</th>\n",
       "      <th>Type</th>\n",
       "      <th>Fabric</th>\n",
       "      <th>Material</th>\n",
       "      <th>Care Instructions</th>\n",
       "      <th>category</th>\n",
       "    </tr>\n",
       "  </thead>\n",
       "  <tbody>\n",
       "    <tr>\n",
       "      <th>0</th>\n",
       "      <td>Light Grey</td>\n",
       "      <td>Elegant</td>\n",
       "      <td>Plain</td>\n",
       "      <td>Bodycon</td>\n",
       "      <td>Slight Stretch</td>\n",
       "      <td>Fabric</td>\n",
       "      <td>Hand wash or professional dry clean</td>\n",
       "      <td>dresses</td>\n",
       "    </tr>\n",
       "    <tr>\n",
       "      <th>1</th>\n",
       "      <td>Mint Green</td>\n",
       "      <td>Boho</td>\n",
       "      <td>Plants, All Over Print</td>\n",
       "      <td>Shirt</td>\n",
       "      <td>Non-Stretch</td>\n",
       "      <td>Fabric</td>\n",
       "      <td>Machine wash or professional dry clean</td>\n",
       "      <td>dresses</td>\n",
       "    </tr>\n",
       "    <tr>\n",
       "      <th>2</th>\n",
       "      <td>White</td>\n",
       "      <td>Boho</td>\n",
       "      <td>Floral</td>\n",
       "      <td>A Line</td>\n",
       "      <td>Slight Stretch</td>\n",
       "      <td>Woven Fabric</td>\n",
       "      <td>Machine wash or professional dry clean</td>\n",
       "      <td>dresses</td>\n",
       "    </tr>\n",
       "    <tr>\n",
       "      <th>3</th>\n",
       "      <td>Black</td>\n",
       "      <td>Elegant</td>\n",
       "      <td>Plain</td>\n",
       "      <td>A Line</td>\n",
       "      <td>Non-Stretch</td>\n",
       "      <td>Fabric</td>\n",
       "      <td>Hand wash,do not dry clean</td>\n",
       "      <td>dresses</td>\n",
       "    </tr>\n",
       "    <tr>\n",
       "      <th>4</th>\n",
       "      <td>Black</td>\n",
       "      <td>Elegant</td>\n",
       "      <td>Plain</td>\n",
       "      <td>Bodycon</td>\n",
       "      <td>Slight Stretch</td>\n",
       "      <td>Flannelette</td>\n",
       "      <td>Machine wash or professional dry clean</td>\n",
       "      <td>dresses</td>\n",
       "    </tr>\n",
       "  </tbody>\n",
       "</table>\n",
       "</div>"
      ],
      "text/plain": [
       "         Color     Style             Pattern Type      Type           Fabric  \\\n",
       "0  Light Grey   Elegant                    Plain   Bodycon   Slight Stretch    \n",
       "1  Mint Green      Boho   Plants, All Over Print     Shirt      Non-Stretch    \n",
       "2       White      Boho                   Floral    A Line   Slight Stretch    \n",
       "3       Black   Elegant                    Plain    A Line      Non-Stretch    \n",
       "4       Black   Elegant                    Plain   Bodycon   Slight Stretch    \n",
       "\n",
       "        Material                        Care Instructions category  \n",
       "0        Fabric      Hand wash or professional dry clean   dresses  \n",
       "1        Fabric   Machine wash or professional dry clean   dresses  \n",
       "2  Woven Fabric   Machine wash or professional dry clean   dresses  \n",
       "3        Fabric               Hand wash,do not dry clean   dresses  \n",
       "4   Flannelette   Machine wash or professional dry clean   dresses  "
      ]
     },
     "execution_count": 12,
     "metadata": {},
     "output_type": "execute_result"
    }
   ],
   "source": [
    "categorical_features.head()"
   ]
  },
  {
   "cell_type": "code",
   "execution_count": 13,
   "id": "fbc4b43f",
   "metadata": {},
   "outputs": [],
   "source": [
    "# for col in categorical_features.columns:\n",
    "#     encoder = LabelEncoder()\n",
    "#     shein_df[col] = encoder.fit_transform(shein_df[col])"
   ]
  },
  {
   "cell_type": "code",
   "execution_count": 14,
   "id": "be7ba4a3",
   "metadata": {},
   "outputs": [
    {
     "data": {
      "text/html": [
       "<div>\n",
       "<style scoped>\n",
       "    .dataframe tbody tr th:only-of-type {\n",
       "        vertical-align: middle;\n",
       "    }\n",
       "\n",
       "    .dataframe tbody tr th {\n",
       "        vertical-align: top;\n",
       "    }\n",
       "\n",
       "    .dataframe thead th {\n",
       "        text-align: right;\n",
       "    }\n",
       "</style>\n",
       "<table border=\"1\" class=\"dataframe\">\n",
       "  <thead>\n",
       "    <tr style=\"text-align: right;\">\n",
       "      <th></th>\n",
       "      <th>Color</th>\n",
       "      <th>Style</th>\n",
       "      <th>Pattern Type</th>\n",
       "      <th>Type</th>\n",
       "      <th>Fabric</th>\n",
       "      <th>Material</th>\n",
       "      <th>Care Instructions</th>\n",
       "      <th>rating</th>\n",
       "      <th>price</th>\n",
       "      <th>category</th>\n",
       "      <th>...</th>\n",
       "      <th>Spandex</th>\n",
       "      <th>Cotton</th>\n",
       "      <th>Metallized Fibres</th>\n",
       "      <th>Polyamide</th>\n",
       "      <th>Rayon</th>\n",
       "      <th>Silk</th>\n",
       "      <th>Nylon</th>\n",
       "      <th>Cashmere</th>\n",
       "      <th>Linen</th>\n",
       "      <th>Polyurethane</th>\n",
       "    </tr>\n",
       "  </thead>\n",
       "  <tbody>\n",
       "    <tr>\n",
       "      <th>0</th>\n",
       "      <td>Light Grey</td>\n",
       "      <td>Elegant</td>\n",
       "      <td>Plain</td>\n",
       "      <td>Bodycon</td>\n",
       "      <td>Slight Stretch</td>\n",
       "      <td>Fabric</td>\n",
       "      <td>Hand wash or professional dry clean</td>\n",
       "      <td>4.91</td>\n",
       "      <td>39.0</td>\n",
       "      <td>dresses</td>\n",
       "      <td>...</td>\n",
       "      <td>0.0</td>\n",
       "      <td>0.0</td>\n",
       "      <td>0.0</td>\n",
       "      <td>0.0</td>\n",
       "      <td>0.0</td>\n",
       "      <td>0.0</td>\n",
       "      <td>0.0</td>\n",
       "      <td>0.0</td>\n",
       "      <td>0.0</td>\n",
       "      <td>0.0</td>\n",
       "    </tr>\n",
       "    <tr>\n",
       "      <th>1</th>\n",
       "      <td>Mint Green</td>\n",
       "      <td>Boho</td>\n",
       "      <td>Plants, All Over Print</td>\n",
       "      <td>Shirt</td>\n",
       "      <td>Non-Stretch</td>\n",
       "      <td>Fabric</td>\n",
       "      <td>Machine wash or professional dry clean</td>\n",
       "      <td>4.90</td>\n",
       "      <td>79.0</td>\n",
       "      <td>dresses</td>\n",
       "      <td>...</td>\n",
       "      <td>0.0</td>\n",
       "      <td>0.0</td>\n",
       "      <td>0.0</td>\n",
       "      <td>0.0</td>\n",
       "      <td>0.0</td>\n",
       "      <td>0.0</td>\n",
       "      <td>0.0</td>\n",
       "      <td>0.0</td>\n",
       "      <td>0.0</td>\n",
       "      <td>0.0</td>\n",
       "    </tr>\n",
       "    <tr>\n",
       "      <th>2</th>\n",
       "      <td>White</td>\n",
       "      <td>Boho</td>\n",
       "      <td>Floral</td>\n",
       "      <td>A Line</td>\n",
       "      <td>Slight Stretch</td>\n",
       "      <td>Woven Fabric</td>\n",
       "      <td>Machine wash or professional dry clean</td>\n",
       "      <td>4.89</td>\n",
       "      <td>79.0</td>\n",
       "      <td>dresses</td>\n",
       "      <td>...</td>\n",
       "      <td>0.0</td>\n",
       "      <td>0.0</td>\n",
       "      <td>0.0</td>\n",
       "      <td>0.0</td>\n",
       "      <td>0.0</td>\n",
       "      <td>0.0</td>\n",
       "      <td>0.0</td>\n",
       "      <td>0.0</td>\n",
       "      <td>0.0</td>\n",
       "      <td>0.0</td>\n",
       "    </tr>\n",
       "    <tr>\n",
       "      <th>3</th>\n",
       "      <td>Black</td>\n",
       "      <td>Elegant</td>\n",
       "      <td>Plain</td>\n",
       "      <td>A Line</td>\n",
       "      <td>Non-Stretch</td>\n",
       "      <td>Fabric</td>\n",
       "      <td>Hand wash,do not dry clean</td>\n",
       "      <td>4.94</td>\n",
       "      <td>119.0</td>\n",
       "      <td>dresses</td>\n",
       "      <td>...</td>\n",
       "      <td>0.0</td>\n",
       "      <td>0.0</td>\n",
       "      <td>0.0</td>\n",
       "      <td>0.0</td>\n",
       "      <td>0.0</td>\n",
       "      <td>0.0</td>\n",
       "      <td>0.0</td>\n",
       "      <td>0.0</td>\n",
       "      <td>0.0</td>\n",
       "      <td>0.0</td>\n",
       "    </tr>\n",
       "    <tr>\n",
       "      <th>4</th>\n",
       "      <td>Black</td>\n",
       "      <td>Elegant</td>\n",
       "      <td>Plain</td>\n",
       "      <td>Bodycon</td>\n",
       "      <td>Slight Stretch</td>\n",
       "      <td>Flannelette</td>\n",
       "      <td>Machine wash or professional dry clean</td>\n",
       "      <td>4.94</td>\n",
       "      <td>49.0</td>\n",
       "      <td>dresses</td>\n",
       "      <td>...</td>\n",
       "      <td>0.0</td>\n",
       "      <td>0.0</td>\n",
       "      <td>0.0</td>\n",
       "      <td>0.0</td>\n",
       "      <td>0.0</td>\n",
       "      <td>0.0</td>\n",
       "      <td>0.0</td>\n",
       "      <td>0.0</td>\n",
       "      <td>0.0</td>\n",
       "      <td>0.0</td>\n",
       "    </tr>\n",
       "  </tbody>\n",
       "</table>\n",
       "<p>5 rows × 23 columns</p>\n",
       "</div>"
      ],
      "text/plain": [
       "         Color     Style             Pattern Type      Type           Fabric  \\\n",
       "0  Light Grey   Elegant                    Plain   Bodycon   Slight Stretch    \n",
       "1  Mint Green      Boho   Plants, All Over Print     Shirt      Non-Stretch    \n",
       "2       White      Boho                   Floral    A Line   Slight Stretch    \n",
       "3       Black   Elegant                    Plain    A Line      Non-Stretch    \n",
       "4       Black   Elegant                    Plain   Bodycon   Slight Stretch    \n",
       "\n",
       "        Material                        Care Instructions  rating  price  \\\n",
       "0        Fabric      Hand wash or professional dry clean     4.91   39.0   \n",
       "1        Fabric   Machine wash or professional dry clean     4.90   79.0   \n",
       "2  Woven Fabric   Machine wash or professional dry clean     4.89   79.0   \n",
       "3        Fabric               Hand wash,do not dry clean     4.94  119.0   \n",
       "4   Flannelette   Machine wash or professional dry clean     4.94   49.0   \n",
       "\n",
       "  category  ...  Spandex  Cotton  Metallized Fibres  Polyamide  Rayon  Silk  \\\n",
       "0  dresses  ...      0.0     0.0                0.0        0.0    0.0   0.0   \n",
       "1  dresses  ...      0.0     0.0                0.0        0.0    0.0   0.0   \n",
       "2  dresses  ...      0.0     0.0                0.0        0.0    0.0   0.0   \n",
       "3  dresses  ...      0.0     0.0                0.0        0.0    0.0   0.0   \n",
       "4  dresses  ...      0.0     0.0                0.0        0.0    0.0   0.0   \n",
       "\n",
       "   Nylon  Cashmere  Linen  Polyurethane  \n",
       "0    0.0       0.0    0.0           0.0  \n",
       "1    0.0       0.0    0.0           0.0  \n",
       "2    0.0       0.0    0.0           0.0  \n",
       "3    0.0       0.0    0.0           0.0  \n",
       "4    0.0       0.0    0.0           0.0  \n",
       "\n",
       "[5 rows x 23 columns]"
      ]
     },
     "execution_count": 14,
     "metadata": {},
     "output_type": "execute_result"
    }
   ],
   "source": [
    "shein_df.head()"
   ]
  },
  {
   "cell_type": "code",
   "execution_count": 15,
   "id": "a0cec705",
   "metadata": {},
   "outputs": [],
   "source": [
    "# X = shein_df.drop('price',axis=1)\n",
    "# y = shein_df['price']"
   ]
  },
  {
   "cell_type": "code",
   "execution_count": 16,
   "id": "aa6a698f",
   "metadata": {},
   "outputs": [],
   "source": [
    "# X_train, X_test, y_train, y_test = train_test_split(X, y, test_size=0.2, random_state=42)"
   ]
  },
  {
   "cell_type": "code",
   "execution_count": 17,
   "id": "687423f1",
   "metadata": {},
   "outputs": [
    {
     "data": {
      "text/html": [
       "<div>\n",
       "<style scoped>\n",
       "    .dataframe tbody tr th:only-of-type {\n",
       "        vertical-align: middle;\n",
       "    }\n",
       "\n",
       "    .dataframe tbody tr th {\n",
       "        vertical-align: top;\n",
       "    }\n",
       "\n",
       "    .dataframe thead th {\n",
       "        text-align: right;\n",
       "    }\n",
       "</style>\n",
       "<table border=\"1\" class=\"dataframe\">\n",
       "  <thead>\n",
       "    <tr style=\"text-align: right;\">\n",
       "      <th></th>\n",
       "      <th>Color_Apricot</th>\n",
       "      <th>Color_Army Green</th>\n",
       "      <th>Color_Baby Blue</th>\n",
       "      <th>Color_Baby Pink</th>\n",
       "      <th>Color_Beige</th>\n",
       "      <th>Color_Black</th>\n",
       "      <th>Color_Black and White</th>\n",
       "      <th>Color_Blue</th>\n",
       "      <th>Color_Blue and White</th>\n",
       "      <th>Color_Brown</th>\n",
       "      <th>...</th>\n",
       "      <th>Material_Woven Fabric</th>\n",
       "      <th>Care Instructions_Do not wash</th>\n",
       "      <th>Care Instructions_Hand wash or professional dry clean</th>\n",
       "      <th>Care Instructions_Hand wash,do not dry clean</th>\n",
       "      <th>Care Instructions_Machine wash or professional dry clean</th>\n",
       "      <th>Care Instructions_Machine wash, do not dry clean</th>\n",
       "      <th>Care Instructions_Machine wash, do not dry clean,wash with the soft detergent</th>\n",
       "      <th>category_dresses</th>\n",
       "      <th>category_pants</th>\n",
       "      <th>category_shirts</th>\n",
       "    </tr>\n",
       "  </thead>\n",
       "  <tbody>\n",
       "    <tr>\n",
       "      <th>0</th>\n",
       "      <td>0.0</td>\n",
       "      <td>0.0</td>\n",
       "      <td>0.0</td>\n",
       "      <td>0.0</td>\n",
       "      <td>0.0</td>\n",
       "      <td>0.0</td>\n",
       "      <td>0.0</td>\n",
       "      <td>0.0</td>\n",
       "      <td>0.0</td>\n",
       "      <td>0.0</td>\n",
       "      <td>...</td>\n",
       "      <td>0.0</td>\n",
       "      <td>0.0</td>\n",
       "      <td>1.0</td>\n",
       "      <td>0.0</td>\n",
       "      <td>0.0</td>\n",
       "      <td>0.0</td>\n",
       "      <td>0.0</td>\n",
       "      <td>1.0</td>\n",
       "      <td>0.0</td>\n",
       "      <td>0.0</td>\n",
       "    </tr>\n",
       "    <tr>\n",
       "      <th>1</th>\n",
       "      <td>0.0</td>\n",
       "      <td>0.0</td>\n",
       "      <td>0.0</td>\n",
       "      <td>0.0</td>\n",
       "      <td>0.0</td>\n",
       "      <td>0.0</td>\n",
       "      <td>0.0</td>\n",
       "      <td>0.0</td>\n",
       "      <td>0.0</td>\n",
       "      <td>0.0</td>\n",
       "      <td>...</td>\n",
       "      <td>0.0</td>\n",
       "      <td>0.0</td>\n",
       "      <td>0.0</td>\n",
       "      <td>0.0</td>\n",
       "      <td>1.0</td>\n",
       "      <td>0.0</td>\n",
       "      <td>0.0</td>\n",
       "      <td>1.0</td>\n",
       "      <td>0.0</td>\n",
       "      <td>0.0</td>\n",
       "    </tr>\n",
       "    <tr>\n",
       "      <th>2</th>\n",
       "      <td>0.0</td>\n",
       "      <td>0.0</td>\n",
       "      <td>0.0</td>\n",
       "      <td>0.0</td>\n",
       "      <td>0.0</td>\n",
       "      <td>0.0</td>\n",
       "      <td>0.0</td>\n",
       "      <td>0.0</td>\n",
       "      <td>0.0</td>\n",
       "      <td>0.0</td>\n",
       "      <td>...</td>\n",
       "      <td>1.0</td>\n",
       "      <td>0.0</td>\n",
       "      <td>0.0</td>\n",
       "      <td>0.0</td>\n",
       "      <td>1.0</td>\n",
       "      <td>0.0</td>\n",
       "      <td>0.0</td>\n",
       "      <td>1.0</td>\n",
       "      <td>0.0</td>\n",
       "      <td>0.0</td>\n",
       "    </tr>\n",
       "    <tr>\n",
       "      <th>3</th>\n",
       "      <td>0.0</td>\n",
       "      <td>0.0</td>\n",
       "      <td>0.0</td>\n",
       "      <td>0.0</td>\n",
       "      <td>0.0</td>\n",
       "      <td>1.0</td>\n",
       "      <td>0.0</td>\n",
       "      <td>0.0</td>\n",
       "      <td>0.0</td>\n",
       "      <td>0.0</td>\n",
       "      <td>...</td>\n",
       "      <td>0.0</td>\n",
       "      <td>0.0</td>\n",
       "      <td>0.0</td>\n",
       "      <td>1.0</td>\n",
       "      <td>0.0</td>\n",
       "      <td>0.0</td>\n",
       "      <td>0.0</td>\n",
       "      <td>1.0</td>\n",
       "      <td>0.0</td>\n",
       "      <td>0.0</td>\n",
       "    </tr>\n",
       "    <tr>\n",
       "      <th>4</th>\n",
       "      <td>0.0</td>\n",
       "      <td>0.0</td>\n",
       "      <td>0.0</td>\n",
       "      <td>0.0</td>\n",
       "      <td>0.0</td>\n",
       "      <td>1.0</td>\n",
       "      <td>0.0</td>\n",
       "      <td>0.0</td>\n",
       "      <td>0.0</td>\n",
       "      <td>0.0</td>\n",
       "      <td>...</td>\n",
       "      <td>0.0</td>\n",
       "      <td>0.0</td>\n",
       "      <td>0.0</td>\n",
       "      <td>0.0</td>\n",
       "      <td>1.0</td>\n",
       "      <td>0.0</td>\n",
       "      <td>0.0</td>\n",
       "      <td>1.0</td>\n",
       "      <td>0.0</td>\n",
       "      <td>0.0</td>\n",
       "    </tr>\n",
       "  </tbody>\n",
       "</table>\n",
       "<p>5 rows × 261 columns</p>\n",
       "</div>"
      ],
      "text/plain": [
       "   Color_Apricot   Color_Army Green   Color_Baby Blue   Color_Baby Pink   \\\n",
       "0             0.0                0.0               0.0               0.0   \n",
       "1             0.0                0.0               0.0               0.0   \n",
       "2             0.0                0.0               0.0               0.0   \n",
       "3             0.0                0.0               0.0               0.0   \n",
       "4             0.0                0.0               0.0               0.0   \n",
       "\n",
       "   Color_Beige   Color_Black   Color_Black and White   Color_Blue   \\\n",
       "0           0.0           0.0                     0.0          0.0   \n",
       "1           0.0           0.0                     0.0          0.0   \n",
       "2           0.0           0.0                     0.0          0.0   \n",
       "3           0.0           1.0                     0.0          0.0   \n",
       "4           0.0           1.0                     0.0          0.0   \n",
       "\n",
       "   Color_Blue and White   Color_Brown   ...  Material_Woven Fabric   \\\n",
       "0                    0.0           0.0  ...                     0.0   \n",
       "1                    0.0           0.0  ...                     0.0   \n",
       "2                    0.0           0.0  ...                     1.0   \n",
       "3                    0.0           0.0  ...                     0.0   \n",
       "4                    0.0           0.0  ...                     0.0   \n",
       "\n",
       "   Care Instructions_Do not wash   \\\n",
       "0                             0.0   \n",
       "1                             0.0   \n",
       "2                             0.0   \n",
       "3                             0.0   \n",
       "4                             0.0   \n",
       "\n",
       "   Care Instructions_Hand wash or professional dry clean   \\\n",
       "0                                                1.0        \n",
       "1                                                0.0        \n",
       "2                                                0.0        \n",
       "3                                                0.0        \n",
       "4                                                0.0        \n",
       "\n",
       "   Care Instructions_Hand wash,do not dry clean   \\\n",
       "0                                            0.0   \n",
       "1                                            0.0   \n",
       "2                                            0.0   \n",
       "3                                            1.0   \n",
       "4                                            0.0   \n",
       "\n",
       "   Care Instructions_Machine wash or professional dry clean   \\\n",
       "0                                                0.0           \n",
       "1                                                1.0           \n",
       "2                                                1.0           \n",
       "3                                                0.0           \n",
       "4                                                1.0           \n",
       "\n",
       "   Care Instructions_Machine wash, do not dry clean   \\\n",
       "0                                                0.0   \n",
       "1                                                0.0   \n",
       "2                                                0.0   \n",
       "3                                                0.0   \n",
       "4                                                0.0   \n",
       "\n",
       "   Care Instructions_Machine wash, do not dry clean,wash with the soft detergent   \\\n",
       "0                                                0.0                                \n",
       "1                                                0.0                                \n",
       "2                                                0.0                                \n",
       "3                                                0.0                                \n",
       "4                                                0.0                                \n",
       "\n",
       "   category_dresses  category_pants  category_shirts  \n",
       "0               1.0             0.0              0.0  \n",
       "1               1.0             0.0              0.0  \n",
       "2               1.0             0.0              0.0  \n",
       "3               1.0             0.0              0.0  \n",
       "4               1.0             0.0              0.0  \n",
       "\n",
       "[5 rows x 261 columns]"
      ]
     },
     "execution_count": 17,
     "metadata": {},
     "output_type": "execute_result"
    }
   ],
   "source": [
    "encoded_categorical.head()"
   ]
  },
  {
   "cell_type": "code",
   "execution_count": 18,
   "id": "ed1cff80",
   "metadata": {},
   "outputs": [],
   "source": [
    "X_encoded = pd.concat([numeric_features,encoded_categorical],axis=1)"
   ]
  },
  {
   "cell_type": "code",
   "execution_count": 19,
   "id": "923ae006",
   "metadata": {},
   "outputs": [
    {
     "data": {
      "text/plain": [
       "(4425, 275)"
      ]
     },
     "execution_count": 19,
     "metadata": {},
     "output_type": "execute_result"
    }
   ],
   "source": [
    "X_encoded.shape"
   ]
  },
  {
   "cell_type": "code",
   "execution_count": 20,
   "id": "a0ca202d",
   "metadata": {},
   "outputs": [],
   "source": [
    "X_train, X_test, y_train, y_test = train_test_split(X_encoded, y, test_size=0.2, random_state=42)"
   ]
  },
  {
   "cell_type": "code",
   "execution_count": 21,
   "id": "5c677055",
   "metadata": {},
   "outputs": [
    {
     "data": {
      "text/plain": [
       "(3540, 275)"
      ]
     },
     "execution_count": 21,
     "metadata": {},
     "output_type": "execute_result"
    }
   ],
   "source": [
    "X_train.shape"
   ]
  },
  {
   "cell_type": "code",
   "execution_count": 22,
   "id": "d0d93588",
   "metadata": {},
   "outputs": [
    {
     "data": {
      "text/plain": [
       "(3540,)"
      ]
     },
     "execution_count": 22,
     "metadata": {},
     "output_type": "execute_result"
    }
   ],
   "source": [
    "y_train.shape"
   ]
  },
  {
   "cell_type": "code",
   "execution_count": 185,
   "id": "791641f4",
   "metadata": {},
   "outputs": [],
   "source": [
    "#regr = RandomForestRegressor(n_estimators=200,random_state=0)\n",
    "#regr.fit(X_train, y_train)"
   ]
  },
  {
   "cell_type": "code",
   "execution_count": 186,
   "id": "3fe118fe",
   "metadata": {},
   "outputs": [],
   "source": [
    "#mean_squared_error(y_train, regr.predict(X_train)) # train"
   ]
  },
  {
   "cell_type": "code",
   "execution_count": 187,
   "id": "84ef28fc",
   "metadata": {},
   "outputs": [],
   "source": [
    "#mean_absolute_error(y_train, regr.predict(X_train)) #train"
   ]
  },
  {
   "cell_type": "code",
   "execution_count": 188,
   "id": "97e65694",
   "metadata": {},
   "outputs": [],
   "source": [
    "#r2_score(y_train, regr.predict(X_train)) #train"
   ]
  },
  {
   "cell_type": "code",
   "execution_count": 189,
   "id": "f160a32c",
   "metadata": {},
   "outputs": [],
   "source": [
    "#mean_absolute_error(y_test, regr.predict(X_test)) #test"
   ]
  },
  {
   "cell_type": "code",
   "execution_count": 190,
   "id": "34a84f11",
   "metadata": {},
   "outputs": [],
   "source": [
    "#r2_score(y_test, regr.predict(X_test))"
   ]
  },
  {
   "cell_type": "code",
   "execution_count": 191,
   "id": "49ff54fe",
   "metadata": {},
   "outputs": [
    {
     "data": {
      "text/plain": [
       "<AxesSubplot:>"
      ]
     },
     "execution_count": 191,
     "metadata": {},
     "output_type": "execute_result"
    },
    {
     "data": {
      "image/png": "[encoded data removed]",
      "text/plain": [
       "<Figure size 640x480 with 1 Axes>"
      ]
     },
     "metadata": {},
     "output_type": "display_data"
    }
   ],
   "source": [
    "shein_df.price.hist(bins=100)"
   ]
  },
  {
   "cell_type": "markdown",
   "id": "3b321932",
   "metadata": {},
   "source": [
    "## Linear regression"
   ]
  },
  {
   "cell_type": "code",
   "execution_count": 30,
   "id": "98835848",
   "metadata": {},
   "outputs": [
    {
     "data": {
      "text/html": [
       "<div>\n",
       "<style scoped>\n",
       "    .dataframe tbody tr th:only-of-type {\n",
       "        vertical-align: middle;\n",
       "    }\n",
       "\n",
       "    .dataframe tbody tr th {\n",
       "        vertical-align: top;\n",
       "    }\n",
       "\n",
       "    .dataframe thead th {\n",
       "        text-align: right;\n",
       "    }\n",
       "</style>\n",
       "<table border=\"1\" class=\"dataframe\">\n",
       "  <thead>\n",
       "    <tr style=\"text-align: right;\">\n",
       "      <th></th>\n",
       "      <th>rating</th>\n",
       "      <th>Polyester</th>\n",
       "      <th>Elastane</th>\n",
       "      <th>Viscose</th>\n",
       "      <th>Spandex</th>\n",
       "      <th>Cotton</th>\n",
       "      <th>Metallized Fibres</th>\n",
       "      <th>Polyamide</th>\n",
       "      <th>Rayon</th>\n",
       "      <th>Silk</th>\n",
       "      <th>...</th>\n",
       "      <th>Material_Woven Fabric</th>\n",
       "      <th>Care Instructions_Do not wash</th>\n",
       "      <th>Care Instructions_Hand wash or professional dry clean</th>\n",
       "      <th>Care Instructions_Hand wash,do not dry clean</th>\n",
       "      <th>Care Instructions_Machine wash or professional dry clean</th>\n",
       "      <th>Care Instructions_Machine wash, do not dry clean</th>\n",
       "      <th>Care Instructions_Machine wash, do not dry clean,wash with the soft detergent</th>\n",
       "      <th>category_dresses</th>\n",
       "      <th>category_pants</th>\n",
       "      <th>category_shirts</th>\n",
       "    </tr>\n",
       "  </thead>\n",
       "  <tbody>\n",
       "    <tr>\n",
       "      <th>4411</th>\n",
       "      <td>5.00</td>\n",
       "      <td>100.0</td>\n",
       "      <td>0.0</td>\n",
       "      <td>0.0</td>\n",
       "      <td>0.0</td>\n",
       "      <td>0.0</td>\n",
       "      <td>0.0</td>\n",
       "      <td>0.0</td>\n",
       "      <td>0.0</td>\n",
       "      <td>0.0</td>\n",
       "      <td>...</td>\n",
       "      <td>0.0</td>\n",
       "      <td>0.0</td>\n",
       "      <td>1.0</td>\n",
       "      <td>0.0</td>\n",
       "      <td>0.0</td>\n",
       "      <td>0.0</td>\n",
       "      <td>0.0</td>\n",
       "      <td>0.0</td>\n",
       "      <td>1.0</td>\n",
       "      <td>0.0</td>\n",
       "    </tr>\n",
       "    <tr>\n",
       "      <th>3717</th>\n",
       "      <td>4.93</td>\n",
       "      <td>100.0</td>\n",
       "      <td>0.0</td>\n",
       "      <td>0.0</td>\n",
       "      <td>0.0</td>\n",
       "      <td>0.0</td>\n",
       "      <td>0.0</td>\n",
       "      <td>0.0</td>\n",
       "      <td>0.0</td>\n",
       "      <td>0.0</td>\n",
       "      <td>...</td>\n",
       "      <td>1.0</td>\n",
       "      <td>0.0</td>\n",
       "      <td>0.0</td>\n",
       "      <td>0.0</td>\n",
       "      <td>1.0</td>\n",
       "      <td>0.0</td>\n",
       "      <td>0.0</td>\n",
       "      <td>0.0</td>\n",
       "      <td>1.0</td>\n",
       "      <td>0.0</td>\n",
       "    </tr>\n",
       "    <tr>\n",
       "      <th>564</th>\n",
       "      <td>4.94</td>\n",
       "      <td>100.0</td>\n",
       "      <td>0.0</td>\n",
       "      <td>0.0</td>\n",
       "      <td>0.0</td>\n",
       "      <td>0.0</td>\n",
       "      <td>0.0</td>\n",
       "      <td>0.0</td>\n",
       "      <td>0.0</td>\n",
       "      <td>0.0</td>\n",
       "      <td>...</td>\n",
       "      <td>0.0</td>\n",
       "      <td>0.0</td>\n",
       "      <td>0.0</td>\n",
       "      <td>0.0</td>\n",
       "      <td>1.0</td>\n",
       "      <td>0.0</td>\n",
       "      <td>0.0</td>\n",
       "      <td>1.0</td>\n",
       "      <td>0.0</td>\n",
       "      <td>0.0</td>\n",
       "    </tr>\n",
       "    <tr>\n",
       "      <th>1788</th>\n",
       "      <td>0.00</td>\n",
       "      <td>65.0</td>\n",
       "      <td>0.0</td>\n",
       "      <td>30.0</td>\n",
       "      <td>5.0</td>\n",
       "      <td>0.0</td>\n",
       "      <td>0.0</td>\n",
       "      <td>0.0</td>\n",
       "      <td>0.0</td>\n",
       "      <td>0.0</td>\n",
       "      <td>...</td>\n",
       "      <td>0.0</td>\n",
       "      <td>0.0</td>\n",
       "      <td>0.0</td>\n",
       "      <td>0.0</td>\n",
       "      <td>1.0</td>\n",
       "      <td>0.0</td>\n",
       "      <td>0.0</td>\n",
       "      <td>1.0</td>\n",
       "      <td>0.0</td>\n",
       "      <td>0.0</td>\n",
       "    </tr>\n",
       "    <tr>\n",
       "      <th>3902</th>\n",
       "      <td>5.00</td>\n",
       "      <td>100.0</td>\n",
       "      <td>0.0</td>\n",
       "      <td>0.0</td>\n",
       "      <td>0.0</td>\n",
       "      <td>0.0</td>\n",
       "      <td>0.0</td>\n",
       "      <td>0.0</td>\n",
       "      <td>0.0</td>\n",
       "      <td>0.0</td>\n",
       "      <td>...</td>\n",
       "      <td>1.0</td>\n",
       "      <td>0.0</td>\n",
       "      <td>0.0</td>\n",
       "      <td>0.0</td>\n",
       "      <td>1.0</td>\n",
       "      <td>0.0</td>\n",
       "      <td>0.0</td>\n",
       "      <td>0.0</td>\n",
       "      <td>1.0</td>\n",
       "      <td>0.0</td>\n",
       "    </tr>\n",
       "  </tbody>\n",
       "</table>\n",
       "<p>5 rows × 275 columns</p>\n",
       "</div>"
      ],
      "text/plain": [
       "      rating  Polyester  Elastane  Viscose  Spandex  Cotton  \\\n",
       "4411    5.00      100.0       0.0      0.0      0.0     0.0   \n",
       "3717    4.93      100.0       0.0      0.0      0.0     0.0   \n",
       "564     4.94      100.0       0.0      0.0      0.0     0.0   \n",
       "1788    0.00       65.0       0.0     30.0      5.0     0.0   \n",
       "3902    5.00      100.0       0.0      0.0      0.0     0.0   \n",
       "\n",
       "      Metallized Fibres  Polyamide  Rayon  Silk  ...  Material_Woven Fabric   \\\n",
       "4411                0.0        0.0    0.0   0.0  ...                     0.0   \n",
       "3717                0.0        0.0    0.0   0.0  ...                     1.0   \n",
       "564                 0.0        0.0    0.0   0.0  ...                     0.0   \n",
       "1788                0.0        0.0    0.0   0.0  ...                     0.0   \n",
       "3902                0.0        0.0    0.0   0.0  ...                     1.0   \n",
       "\n",
       "      Care Instructions_Do not wash   \\\n",
       "4411                             0.0   \n",
       "3717                             0.0   \n",
       "564                              0.0   \n",
       "1788                             0.0   \n",
       "3902                             0.0   \n",
       "\n",
       "      Care Instructions_Hand wash or professional dry clean   \\\n",
       "4411                                                1.0        \n",
       "3717                                                0.0        \n",
       "564                                                 0.0        \n",
       "1788                                                0.0        \n",
       "3902                                                0.0        \n",
       "\n",
       "      Care Instructions_Hand wash,do not dry clean   \\\n",
       "4411                                            0.0   \n",
       "3717                                            0.0   \n",
       "564                                             0.0   \n",
       "1788                                            0.0   \n",
       "3902                                            0.0   \n",
       "\n",
       "      Care Instructions_Machine wash or professional dry clean   \\\n",
       "4411                                                0.0           \n",
       "3717                                                1.0           \n",
       "564                                                 1.0           \n",
       "1788                                                1.0           \n",
       "3902                                                1.0           \n",
       "\n",
       "      Care Instructions_Machine wash, do not dry clean   \\\n",
       "4411                                                0.0   \n",
       "3717                                                0.0   \n",
       "564                                                 0.0   \n",
       "1788                                                0.0   \n",
       "3902                                                0.0   \n",
       "\n",
       "      Care Instructions_Machine wash, do not dry clean,wash with the soft detergent   \\\n",
       "4411                                                0.0                                \n",
       "3717                                                0.0                                \n",
       "564                                                 0.0                                \n",
       "1788                                                0.0                                \n",
       "3902                                                0.0                                \n",
       "\n",
       "      category_dresses  category_pants  category_shirts  \n",
       "4411               0.0             1.0              0.0  \n",
       "3717               0.0             1.0              0.0  \n",
       "564                1.0             0.0              0.0  \n",
       "1788               1.0             0.0              0.0  \n",
       "3902               0.0             1.0              0.0  \n",
       "\n",
       "[5 rows x 275 columns]"
      ]
     },
     "execution_count": 30,
     "metadata": {},
     "output_type": "execute_result"
    }
   ],
   "source": [
    "X_train.head()"
   ]
  },
  {
   "cell_type": "code",
   "execution_count": 31,
   "id": "072800e9",
   "metadata": {},
   "outputs": [],
   "source": [
    "pca = PCA(n_components=200)\n",
    "X_train_new = pca.fit_transform(X_train)"
   ]
  },
  {
   "cell_type": "code",
   "execution_count": 32,
   "id": "5bb0a0dc",
   "metadata": {},
   "outputs": [],
   "source": [
    "X_test_new = pca.transform(X_test)"
   ]
  },
  {
   "cell_type": "code",
   "execution_count": 33,
   "id": "c85c3d04",
   "metadata": {},
   "outputs": [],
   "source": [
    "# X_train_new[:3]"
   ]
  },
  {
   "cell_type": "code",
   "execution_count": 34,
   "id": "b5bc1d38",
   "metadata": {},
   "outputs": [
    {
     "data": {
      "text/plain": [
       "LinearRegression()"
      ]
     },
     "execution_count": 34,
     "metadata": {},
     "output_type": "execute_result"
    }
   ],
   "source": [
    "regr = LinearRegression()\n",
    "regr.fit(X_train_new, y_train)"
   ]
  },
  {
   "cell_type": "code",
   "execution_count": 35,
   "id": "efc0176c",
   "metadata": {},
   "outputs": [
    {
     "data": {
      "text/plain": [
       "521.513453193797"
      ]
     },
     "execution_count": 35,
     "metadata": {},
     "output_type": "execute_result"
    }
   ],
   "source": [
    "mean_squared_error(y_train, regr.predict(X_train_new))"
   ]
  },
  {
   "cell_type": "code",
   "execution_count": 36,
   "id": "fa754363",
   "metadata": {},
   "outputs": [
    {
     "data": {
      "text/plain": [
       "15.291154832790749"
      ]
     },
     "execution_count": 36,
     "metadata": {},
     "output_type": "execute_result"
    }
   ],
   "source": [
    "mean_absolute_error(y_train, regr.predict(X_train_new))"
   ]
  },
  {
   "cell_type": "code",
   "execution_count": 37,
   "id": "9b67219b",
   "metadata": {},
   "outputs": [
    {
     "data": {
      "text/plain": [
       "0.4726385790935719"
      ]
     },
     "execution_count": 37,
     "metadata": {},
     "output_type": "execute_result"
    }
   ],
   "source": [
    "r2_score(y_train, regr.predict(X_train_new)) #train"
   ]
  },
  {
   "cell_type": "code",
   "execution_count": 38,
   "id": "8115dc1a",
   "metadata": {},
   "outputs": [
    {
     "data": {
      "text/plain": [
       "15.318167043272847"
      ]
     },
     "execution_count": 38,
     "metadata": {},
     "output_type": "execute_result"
    }
   ],
   "source": [
    "mean_absolute_error(y_test, regr.predict(X_test_new)) #test"
   ]
  },
  {
   "cell_type": "code",
   "execution_count": 39,
   "id": "e4d55f36",
   "metadata": {},
   "outputs": [
    {
     "data": {
      "text/plain": [
       "0.4900276768068822"
      ]
     },
     "execution_count": 39,
     "metadata": {},
     "output_type": "execute_result"
    }
   ],
   "source": [
    "r2_score(y_test, regr.predict(X_test_new))"
   ]
  },
  {
   "cell_type": "markdown",
   "id": "9dcc7a38",
   "metadata": {},
   "source": [
    "## KNN"
   ]
  },
  {
   "cell_type": "code",
   "execution_count": 40,
   "id": "69652d6d",
   "metadata": {},
   "outputs": [
    {
     "data": {
      "text/plain": [
       "KNeighborsRegressor(n_neighbors=10)"
      ]
     },
     "execution_count": 40,
     "metadata": {},
     "output_type": "execute_result"
    }
   ],
   "source": [
    "regr = KNeighborsRegressor(n_neighbors=10)\n",
    "regr.fit(X_train, y_train)"
   ]
  },
  {
   "cell_type": "code",
   "execution_count": 41,
   "id": "27086911",
   "metadata": {},
   "outputs": [
    {
     "data": {
      "text/plain": [
       "13.983199435028249"
      ]
     },
     "execution_count": 41,
     "metadata": {},
     "output_type": "execute_result"
    }
   ],
   "source": [
    "mean_absolute_error(y_train, regr.predict(X_train))"
   ]
  },
  {
   "cell_type": "code",
   "execution_count": 42,
   "id": "d7fbb6ab",
   "metadata": {},
   "outputs": [
    {
     "data": {
      "text/plain": [
       "0.5281909768379083"
      ]
     },
     "execution_count": 42,
     "metadata": {},
     "output_type": "execute_result"
    }
   ],
   "source": [
    "r2_score(y_train, regr.predict(X_train)) "
   ]
  },
  {
   "cell_type": "code",
   "execution_count": 43,
   "id": "591aa160",
   "metadata": {},
   "outputs": [
    {
     "data": {
      "text/plain": [
       "15.430981920903955"
      ]
     },
     "execution_count": 43,
     "metadata": {},
     "output_type": "execute_result"
    }
   ],
   "source": [
    "mean_absolute_error(y_test, regr.predict(X_test))"
   ]
  },
  {
   "cell_type": "code",
   "execution_count": 44,
   "id": "89c0017a",
   "metadata": {},
   "outputs": [
    {
     "data": {
      "text/plain": [
       "0.4830423608223813"
      ]
     },
     "execution_count": 44,
     "metadata": {},
     "output_type": "execute_result"
    }
   ],
   "source": [
    "r2_score(y_test, regr.predict(X_test))"
   ]
  },
  {
   "cell_type": "markdown",
   "id": "5ef5aaa4",
   "metadata": {},
   "source": [
    "## SVR"
   ]
  },
  {
   "cell_type": "code",
   "execution_count": 45,
   "id": "da81c15e",
   "metadata": {},
   "outputs": [
    {
     "data": {
      "text/plain": [
       "SVR(kernel='linear')"
      ]
     },
     "execution_count": 45,
     "metadata": {},
     "output_type": "execute_result"
    }
   ],
   "source": [
    "regr = SVR(kernel='linear')\n",
    "regr.fit(X_train, y_train)"
   ]
  },
  {
   "cell_type": "code",
   "execution_count": 46,
   "id": "842023ba",
   "metadata": {},
   "outputs": [
    {
     "data": {
      "text/plain": [
       "0.37005166384314847"
      ]
     },
     "execution_count": 46,
     "metadata": {},
     "output_type": "execute_result"
    }
   ],
   "source": [
    "r2_score(y_train, regr.predict(X_train)) "
   ]
  },
  {
   "cell_type": "code",
   "execution_count": 47,
   "id": "fd4de457",
   "metadata": {},
   "outputs": [
    {
     "data": {
      "text/plain": [
       "14.448743171915766"
      ]
     },
     "execution_count": 47,
     "metadata": {},
     "output_type": "execute_result"
    }
   ],
   "source": [
    "mean_absolute_error(y_train, regr.predict(X_train))"
   ]
  },
  {
   "cell_type": "code",
   "execution_count": 48,
   "id": "c92bb865",
   "metadata": {},
   "outputs": [
    {
     "data": {
      "text/plain": [
       "14.9374028708913"
      ]
     },
     "execution_count": 48,
     "metadata": {},
     "output_type": "execute_result"
    }
   ],
   "source": [
    "mean_absolute_error(y_test, regr.predict(X_test))"
   ]
  },
  {
   "cell_type": "code",
   "execution_count": 49,
   "id": "9b87d148",
   "metadata": {},
   "outputs": [
    {
     "data": {
      "text/plain": [
       "0.37875954629091924"
      ]
     },
     "execution_count": 49,
     "metadata": {},
     "output_type": "execute_result"
    }
   ],
   "source": [
    "r2_score(y_test, regr.predict(X_test))"
   ]
  },
  {
   "cell_type": "markdown",
   "id": "fcc354dc",
   "metadata": {},
   "source": [
    "## Gradient Boosting regression"
   ]
  },
  {
   "cell_type": "code",
   "execution_count": 50,
   "id": "c6bcd384",
   "metadata": {},
   "outputs": [
    {
     "data": {
      "text/plain": [
       "GradientBoostingRegressor(n_estimators=200, random_state=0)"
      ]
     },
     "execution_count": 50,
     "metadata": {},
     "output_type": "execute_result"
    }
   ],
   "source": [
    "regr = GradientBoostingRegressor(n_estimators=200,random_state=0)\n",
    "regr.fit(X_train, y_train)"
   ]
  },
  {
   "cell_type": "code",
   "execution_count": 51,
   "id": "774c39b3",
   "metadata": {},
   "outputs": [
    {
     "data": {
      "text/plain": [
       "0.6591897316090879"
      ]
     },
     "execution_count": 51,
     "metadata": {},
     "output_type": "execute_result"
    }
   ],
   "source": [
    "r2_score(y_train, regr.predict(X_train)) "
   ]
  },
  {
   "cell_type": "code",
   "execution_count": 52,
   "id": "ef941e0d",
   "metadata": {},
   "outputs": [
    {
     "data": {
      "text/plain": [
       "12.562293211599792"
      ]
     },
     "execution_count": 52,
     "metadata": {},
     "output_type": "execute_result"
    }
   ],
   "source": [
    "mean_absolute_error(y_train, regr.predict(X_train))"
   ]
  },
  {
   "cell_type": "code",
   "execution_count": 53,
   "id": "db2ab7ed",
   "metadata": {},
   "outputs": [
    {
     "data": {
      "text/plain": [
       "14.149314329348968"
      ]
     },
     "execution_count": 53,
     "metadata": {},
     "output_type": "execute_result"
    }
   ],
   "source": [
    "mean_absolute_error(y_test, regr.predict(X_test))"
   ]
  },
  {
   "cell_type": "code",
   "execution_count": 54,
   "id": "c80c42cd",
   "metadata": {},
   "outputs": [
    {
     "data": {
      "text/plain": [
       "0.5906386291082869"
      ]
     },
     "execution_count": 54,
     "metadata": {},
     "output_type": "execute_result"
    }
   ],
   "source": [
    "r2_score(y_test, regr.predict(X_test))"
   ]
  },
  {
   "cell_type": "markdown",
   "id": "f31a79b7",
   "metadata": {},
   "source": [
    "## RandomForest Regression"
   ]
  },
  {
   "cell_type": "code",
   "execution_count": 176,
   "id": "452bbf87",
   "metadata": {},
   "outputs": [
    {
     "data": {
      "text/plain": [
       "RandomForestRegressor(max_depth=8, random_state=0)"
      ]
     },
     "execution_count": 176,
     "metadata": {},
     "output_type": "execute_result"
    }
   ],
   "source": [
    "regr = RandomForestRegressor(n_estimators=100,random_state=0,max_depth=8)\n",
    "regr.fit(X_train, y_train)"
   ]
  },
  {
   "cell_type": "code",
   "execution_count": 177,
   "id": "b1c1c08e",
   "metadata": {},
   "outputs": [
    {
     "data": {
      "text/plain": [
       "0.7611164514129841"
      ]
     },
     "execution_count": 177,
     "metadata": {},
     "output_type": "execute_result"
    }
   ],
   "source": [
    "r2_score(y_train, regr.predict(X_train)) "
   ]
  },
  {
   "cell_type": "code",
   "execution_count": 178,
   "id": "74319f9c",
   "metadata": {},
   "outputs": [
    {
     "data": {
      "text/plain": [
       "11.171942397607134"
      ]
     },
     "execution_count": 178,
     "metadata": {},
     "output_type": "execute_result"
    }
   ],
   "source": [
    "mean_absolute_error(y_train, regr.predict(X_train))"
   ]
  },
  {
   "cell_type": "code",
   "execution_count": 179,
   "id": "01d7803e",
   "metadata": {},
   "outputs": [
    {
     "data": {
      "text/plain": [
       "0.6222643158060933"
      ]
     },
     "execution_count": 179,
     "metadata": {},
     "output_type": "execute_result"
    }
   ],
   "source": [
    "r2_score(y_test, regr.predict(X_test))"
   ]
  },
  {
   "cell_type": "code",
   "execution_count": 180,
   "id": "b74cd0b9",
   "metadata": {},
   "outputs": [
    {
     "data": {
      "text/plain": [
       "13.708060736593769"
      ]
     },
     "execution_count": 180,
     "metadata": {},
     "output_type": "execute_result"
    }
   ],
   "source": [
    "mean_absolute_error(y_test, regr.predict(X_test))"
   ]
  },
  {
   "cell_type": "code",
   "execution_count": 182,
   "id": "a3bf90e6",
   "metadata": {},
   "outputs": [],
   "source": [
    "y_pred = regr.predict(X_test)"
   ]
  },
  {
   "cell_type": "code",
   "execution_count": 183,
   "id": "fd312660",
   "metadata": {},
   "outputs": [
    {
     "data": {
      "text/plain": [
       "1257    69.0\n",
       "2572    49.0\n",
       "3741    69.0\n",
       "1068    39.0\n",
       "1732    59.0\n",
       "287     39.0\n",
       "4139    99.0\n",
       "1844    29.0\n",
       "3928    49.0\n",
       "1056    49.0\n",
       "Name: price, dtype: float64"
      ]
     },
     "execution_count": 183,
     "metadata": {},
     "output_type": "execute_result"
    }
   ],
   "source": [
    "y_test[:10] #True labels"
   ]
  },
  {
   "cell_type": "code",
   "execution_count": 184,
   "id": "da7ef8f2",
   "metadata": {},
   "outputs": [
    {
     "data": {
      "text/plain": [
       "array([69.62750494, 37.38638584, 58.0807341 , 82.94275516, 54.07942908,\n",
       "       54.95907842, 59.35424404, 53.33071202, 47.42429176, 62.00412037])"
      ]
     },
     "execution_count": 184,
     "metadata": {},
     "output_type": "execute_result"
    }
   ],
   "source": [
    "y_pred[:10]"
   ]
  },
  {
   "cell_type": "code",
   "execution_count": null,
   "id": "86e0c4f0",
   "metadata": {},
   "outputs": [],
   "source": []
  },
  {
   "cell_type": "code",
   "execution_count": 135,
   "id": "df759ea2",
   "metadata": {},
   "outputs": [
    {
     "data": {
      "text/plain": [
       "(4425, 23)"
      ]
     },
     "execution_count": 135,
     "metadata": {},
     "output_type": "execute_result"
    }
   ],
   "source": [
    "shein_df.shape"
   ]
  },
  {
   "cell_type": "code",
   "execution_count": 137,
   "id": "9cdd30b5",
   "metadata": {},
   "outputs": [
    {
     "data": {
      "text/html": [
       "<div>\n",
       "<style scoped>\n",
       "    .dataframe tbody tr th:only-of-type {\n",
       "        vertical-align: middle;\n",
       "    }\n",
       "\n",
       "    .dataframe tbody tr th {\n",
       "        vertical-align: top;\n",
       "    }\n",
       "\n",
       "    .dataframe thead th {\n",
       "        text-align: right;\n",
       "    }\n",
       "</style>\n",
       "<table border=\"1\" class=\"dataframe\">\n",
       "  <thead>\n",
       "    <tr style=\"text-align: right;\">\n",
       "      <th></th>\n",
       "      <th>Color</th>\n",
       "      <th>Style</th>\n",
       "      <th>Pattern Type</th>\n",
       "      <th>Type</th>\n",
       "      <th>Fabric</th>\n",
       "      <th>Material</th>\n",
       "      <th>Care Instructions</th>\n",
       "      <th>rating</th>\n",
       "      <th>price</th>\n",
       "      <th>category</th>\n",
       "      <th>...</th>\n",
       "      <th>Spandex</th>\n",
       "      <th>Cotton</th>\n",
       "      <th>Metallized Fibres</th>\n",
       "      <th>Polyamide</th>\n",
       "      <th>Rayon</th>\n",
       "      <th>Silk</th>\n",
       "      <th>Nylon</th>\n",
       "      <th>Cashmere</th>\n",
       "      <th>Linen</th>\n",
       "      <th>Polyurethane</th>\n",
       "    </tr>\n",
       "  </thead>\n",
       "  <tbody>\n",
       "    <tr>\n",
       "      <th>0</th>\n",
       "      <td>Light Grey</td>\n",
       "      <td>Elegant</td>\n",
       "      <td>Plain</td>\n",
       "      <td>Bodycon</td>\n",
       "      <td>Slight Stretch</td>\n",
       "      <td>Fabric</td>\n",
       "      <td>Hand wash or professional dry clean</td>\n",
       "      <td>4.91</td>\n",
       "      <td>39.0</td>\n",
       "      <td>dresses</td>\n",
       "      <td>...</td>\n",
       "      <td>0.0</td>\n",
       "      <td>0.0</td>\n",
       "      <td>0.0</td>\n",
       "      <td>0.0</td>\n",
       "      <td>0.0</td>\n",
       "      <td>0.0</td>\n",
       "      <td>0.0</td>\n",
       "      <td>0.0</td>\n",
       "      <td>0.0</td>\n",
       "      <td>0.0</td>\n",
       "    </tr>\n",
       "    <tr>\n",
       "      <th>1</th>\n",
       "      <td>Mint Green</td>\n",
       "      <td>Boho</td>\n",
       "      <td>Plants, All Over Print</td>\n",
       "      <td>Shirt</td>\n",
       "      <td>Non-Stretch</td>\n",
       "      <td>Fabric</td>\n",
       "      <td>Machine wash or professional dry clean</td>\n",
       "      <td>4.90</td>\n",
       "      <td>79.0</td>\n",
       "      <td>dresses</td>\n",
       "      <td>...</td>\n",
       "      <td>0.0</td>\n",
       "      <td>0.0</td>\n",
       "      <td>0.0</td>\n",
       "      <td>0.0</td>\n",
       "      <td>0.0</td>\n",
       "      <td>0.0</td>\n",
       "      <td>0.0</td>\n",
       "      <td>0.0</td>\n",
       "      <td>0.0</td>\n",
       "      <td>0.0</td>\n",
       "    </tr>\n",
       "    <tr>\n",
       "      <th>2</th>\n",
       "      <td>White</td>\n",
       "      <td>Boho</td>\n",
       "      <td>Floral</td>\n",
       "      <td>A Line</td>\n",
       "      <td>Slight Stretch</td>\n",
       "      <td>Woven Fabric</td>\n",
       "      <td>Machine wash or professional dry clean</td>\n",
       "      <td>4.89</td>\n",
       "      <td>79.0</td>\n",
       "      <td>dresses</td>\n",
       "      <td>...</td>\n",
       "      <td>0.0</td>\n",
       "      <td>0.0</td>\n",
       "      <td>0.0</td>\n",
       "      <td>0.0</td>\n",
       "      <td>0.0</td>\n",
       "      <td>0.0</td>\n",
       "      <td>0.0</td>\n",
       "      <td>0.0</td>\n",
       "      <td>0.0</td>\n",
       "      <td>0.0</td>\n",
       "    </tr>\n",
       "    <tr>\n",
       "      <th>3</th>\n",
       "      <td>Black</td>\n",
       "      <td>Elegant</td>\n",
       "      <td>Plain</td>\n",
       "      <td>A Line</td>\n",
       "      <td>Non-Stretch</td>\n",
       "      <td>Fabric</td>\n",
       "      <td>Hand wash,do not dry clean</td>\n",
       "      <td>4.94</td>\n",
       "      <td>119.0</td>\n",
       "      <td>dresses</td>\n",
       "      <td>...</td>\n",
       "      <td>0.0</td>\n",
       "      <td>0.0</td>\n",
       "      <td>0.0</td>\n",
       "      <td>0.0</td>\n",
       "      <td>0.0</td>\n",
       "      <td>0.0</td>\n",
       "      <td>0.0</td>\n",
       "      <td>0.0</td>\n",
       "      <td>0.0</td>\n",
       "      <td>0.0</td>\n",
       "    </tr>\n",
       "    <tr>\n",
       "      <th>4</th>\n",
       "      <td>Black</td>\n",
       "      <td>Elegant</td>\n",
       "      <td>Plain</td>\n",
       "      <td>Bodycon</td>\n",
       "      <td>Slight Stretch</td>\n",
       "      <td>Flannelette</td>\n",
       "      <td>Machine wash or professional dry clean</td>\n",
       "      <td>4.94</td>\n",
       "      <td>49.0</td>\n",
       "      <td>dresses</td>\n",
       "      <td>...</td>\n",
       "      <td>0.0</td>\n",
       "      <td>0.0</td>\n",
       "      <td>0.0</td>\n",
       "      <td>0.0</td>\n",
       "      <td>0.0</td>\n",
       "      <td>0.0</td>\n",
       "      <td>0.0</td>\n",
       "      <td>0.0</td>\n",
       "      <td>0.0</td>\n",
       "      <td>0.0</td>\n",
       "    </tr>\n",
       "  </tbody>\n",
       "</table>\n",
       "<p>5 rows × 23 columns</p>\n",
       "</div>"
      ],
      "text/plain": [
       "         Color     Style             Pattern Type      Type           Fabric  \\\n",
       "0  Light Grey   Elegant                    Plain   Bodycon   Slight Stretch    \n",
       "1  Mint Green      Boho   Plants, All Over Print     Shirt      Non-Stretch    \n",
       "2       White      Boho                   Floral    A Line   Slight Stretch    \n",
       "3       Black   Elegant                    Plain    A Line      Non-Stretch    \n",
       "4       Black   Elegant                    Plain   Bodycon   Slight Stretch    \n",
       "\n",
       "        Material                        Care Instructions  rating  price  \\\n",
       "0        Fabric      Hand wash or professional dry clean     4.91   39.0   \n",
       "1        Fabric   Machine wash or professional dry clean     4.90   79.0   \n",
       "2  Woven Fabric   Machine wash or professional dry clean     4.89   79.0   \n",
       "3        Fabric               Hand wash,do not dry clean     4.94  119.0   \n",
       "4   Flannelette   Machine wash or professional dry clean     4.94   49.0   \n",
       "\n",
       "  category  ...  Spandex  Cotton  Metallized Fibres  Polyamide  Rayon  Silk  \\\n",
       "0  dresses  ...      0.0     0.0                0.0        0.0    0.0   0.0   \n",
       "1  dresses  ...      0.0     0.0                0.0        0.0    0.0   0.0   \n",
       "2  dresses  ...      0.0     0.0                0.0        0.0    0.0   0.0   \n",
       "3  dresses  ...      0.0     0.0                0.0        0.0    0.0   0.0   \n",
       "4  dresses  ...      0.0     0.0                0.0        0.0    0.0   0.0   \n",
       "\n",
       "   Nylon  Cashmere  Linen  Polyurethane  \n",
       "0    0.0       0.0    0.0           0.0  \n",
       "1    0.0       0.0    0.0           0.0  \n",
       "2    0.0       0.0    0.0           0.0  \n",
       "3    0.0       0.0    0.0           0.0  \n",
       "4    0.0       0.0    0.0           0.0  \n",
       "\n",
       "[5 rows x 23 columns]"
      ]
     },
     "execution_count": 137,
     "metadata": {},
     "output_type": "execute_result"
    }
   ],
   "source": [
    "shein_df.head()"
   ]
  },
  {
   "cell_type": "code",
   "execution_count": 138,
   "id": "810415c4",
   "metadata": {},
   "outputs": [
    {
     "data": {
      "text/html": [
       "<div>\n",
       "<style scoped>\n",
       "    .dataframe tbody tr th:only-of-type {\n",
       "        vertical-align: middle;\n",
       "    }\n",
       "\n",
       "    .dataframe tbody tr th {\n",
       "        vertical-align: top;\n",
       "    }\n",
       "\n",
       "    .dataframe thead th {\n",
       "        text-align: right;\n",
       "    }\n",
       "</style>\n",
       "<table border=\"1\" class=\"dataframe\">\n",
       "  <thead>\n",
       "    <tr style=\"text-align: right;\">\n",
       "      <th></th>\n",
       "      <th>rating</th>\n",
       "      <th>Polyester</th>\n",
       "      <th>Elastane</th>\n",
       "      <th>Viscose</th>\n",
       "      <th>Spandex</th>\n",
       "      <th>Cotton</th>\n",
       "      <th>Metallized Fibres</th>\n",
       "      <th>Polyamide</th>\n",
       "      <th>Rayon</th>\n",
       "      <th>Silk</th>\n",
       "      <th>...</th>\n",
       "      <th>Material_Woven Fabric</th>\n",
       "      <th>Care Instructions_Do not wash</th>\n",
       "      <th>Care Instructions_Hand wash or professional dry clean</th>\n",
       "      <th>Care Instructions_Hand wash,do not dry clean</th>\n",
       "      <th>Care Instructions_Machine wash or professional dry clean</th>\n",
       "      <th>Care Instructions_Machine wash, do not dry clean</th>\n",
       "      <th>Care Instructions_Machine wash, do not dry clean,wash with the soft detergent</th>\n",
       "      <th>category_dresses</th>\n",
       "      <th>category_pants</th>\n",
       "      <th>category_shirts</th>\n",
       "    </tr>\n",
       "  </thead>\n",
       "  <tbody>\n",
       "    <tr>\n",
       "      <th>0</th>\n",
       "      <td>4.91</td>\n",
       "      <td>96.0</td>\n",
       "      <td>4.0</td>\n",
       "      <td>0.0</td>\n",
       "      <td>0.0</td>\n",
       "      <td>0.0</td>\n",
       "      <td>0.0</td>\n",
       "      <td>0.0</td>\n",
       "      <td>0.0</td>\n",
       "      <td>0.0</td>\n",
       "      <td>...</td>\n",
       "      <td>0.0</td>\n",
       "      <td>0.0</td>\n",
       "      <td>1.0</td>\n",
       "      <td>0.0</td>\n",
       "      <td>0.0</td>\n",
       "      <td>0.0</td>\n",
       "      <td>0.0</td>\n",
       "      <td>1.0</td>\n",
       "      <td>0.0</td>\n",
       "      <td>0.0</td>\n",
       "    </tr>\n",
       "    <tr>\n",
       "      <th>1</th>\n",
       "      <td>4.90</td>\n",
       "      <td>100.0</td>\n",
       "      <td>0.0</td>\n",
       "      <td>0.0</td>\n",
       "      <td>0.0</td>\n",
       "      <td>0.0</td>\n",
       "      <td>0.0</td>\n",
       "      <td>0.0</td>\n",
       "      <td>0.0</td>\n",
       "      <td>0.0</td>\n",
       "      <td>...</td>\n",
       "      <td>0.0</td>\n",
       "      <td>0.0</td>\n",
       "      <td>0.0</td>\n",
       "      <td>0.0</td>\n",
       "      <td>1.0</td>\n",
       "      <td>0.0</td>\n",
       "      <td>0.0</td>\n",
       "      <td>1.0</td>\n",
       "      <td>0.0</td>\n",
       "      <td>0.0</td>\n",
       "    </tr>\n",
       "    <tr>\n",
       "      <th>2</th>\n",
       "      <td>4.89</td>\n",
       "      <td>95.0</td>\n",
       "      <td>5.0</td>\n",
       "      <td>0.0</td>\n",
       "      <td>0.0</td>\n",
       "      <td>0.0</td>\n",
       "      <td>0.0</td>\n",
       "      <td>0.0</td>\n",
       "      <td>0.0</td>\n",
       "      <td>0.0</td>\n",
       "      <td>...</td>\n",
       "      <td>1.0</td>\n",
       "      <td>0.0</td>\n",
       "      <td>0.0</td>\n",
       "      <td>0.0</td>\n",
       "      <td>1.0</td>\n",
       "      <td>0.0</td>\n",
       "      <td>0.0</td>\n",
       "      <td>1.0</td>\n",
       "      <td>0.0</td>\n",
       "      <td>0.0</td>\n",
       "    </tr>\n",
       "    <tr>\n",
       "      <th>3</th>\n",
       "      <td>4.94</td>\n",
       "      <td>100.0</td>\n",
       "      <td>0.0</td>\n",
       "      <td>0.0</td>\n",
       "      <td>0.0</td>\n",
       "      <td>0.0</td>\n",
       "      <td>0.0</td>\n",
       "      <td>0.0</td>\n",
       "      <td>0.0</td>\n",
       "      <td>0.0</td>\n",
       "      <td>...</td>\n",
       "      <td>0.0</td>\n",
       "      <td>0.0</td>\n",
       "      <td>0.0</td>\n",
       "      <td>1.0</td>\n",
       "      <td>0.0</td>\n",
       "      <td>0.0</td>\n",
       "      <td>0.0</td>\n",
       "      <td>1.0</td>\n",
       "      <td>0.0</td>\n",
       "      <td>0.0</td>\n",
       "    </tr>\n",
       "    <tr>\n",
       "      <th>4</th>\n",
       "      <td>4.94</td>\n",
       "      <td>95.0</td>\n",
       "      <td>5.0</td>\n",
       "      <td>0.0</td>\n",
       "      <td>0.0</td>\n",
       "      <td>0.0</td>\n",
       "      <td>0.0</td>\n",
       "      <td>0.0</td>\n",
       "      <td>0.0</td>\n",
       "      <td>0.0</td>\n",
       "      <td>...</td>\n",
       "      <td>0.0</td>\n",
       "      <td>0.0</td>\n",
       "      <td>0.0</td>\n",
       "      <td>0.0</td>\n",
       "      <td>1.0</td>\n",
       "      <td>0.0</td>\n",
       "      <td>0.0</td>\n",
       "      <td>1.0</td>\n",
       "      <td>0.0</td>\n",
       "      <td>0.0</td>\n",
       "    </tr>\n",
       "  </tbody>\n",
       "</table>\n",
       "<p>5 rows × 275 columns</p>\n",
       "</div>"
      ],
      "text/plain": [
       "   rating  Polyester  Elastane  Viscose  Spandex  Cotton  Metallized Fibres  \\\n",
       "0    4.91       96.0       4.0      0.0      0.0     0.0                0.0   \n",
       "1    4.90      100.0       0.0      0.0      0.0     0.0                0.0   \n",
       "2    4.89       95.0       5.0      0.0      0.0     0.0                0.0   \n",
       "3    4.94      100.0       0.0      0.0      0.0     0.0                0.0   \n",
       "4    4.94       95.0       5.0      0.0      0.0     0.0                0.0   \n",
       "\n",
       "   Polyamide  Rayon  Silk  ...  Material_Woven Fabric   \\\n",
       "0        0.0    0.0   0.0  ...                     0.0   \n",
       "1        0.0    0.0   0.0  ...                     0.0   \n",
       "2        0.0    0.0   0.0  ...                     1.0   \n",
       "3        0.0    0.0   0.0  ...                     0.0   \n",
       "4        0.0    0.0   0.0  ...                     0.0   \n",
       "\n",
       "   Care Instructions_Do not wash   \\\n",
       "0                             0.0   \n",
       "1                             0.0   \n",
       "2                             0.0   \n",
       "3                             0.0   \n",
       "4                             0.0   \n",
       "\n",
       "   Care Instructions_Hand wash or professional dry clean   \\\n",
       "0                                                1.0        \n",
       "1                                                0.0        \n",
       "2                                                0.0        \n",
       "3                                                0.0        \n",
       "4                                                0.0        \n",
       "\n",
       "   Care Instructions_Hand wash,do not dry clean   \\\n",
       "0                                            0.0   \n",
       "1                                            0.0   \n",
       "2                                            0.0   \n",
       "3                                            1.0   \n",
       "4                                            0.0   \n",
       "\n",
       "   Care Instructions_Machine wash or professional dry clean   \\\n",
       "0                                                0.0           \n",
       "1                                                1.0           \n",
       "2                                                1.0           \n",
       "3                                                0.0           \n",
       "4                                                1.0           \n",
       "\n",
       "   Care Instructions_Machine wash, do not dry clean   \\\n",
       "0                                                0.0   \n",
       "1                                                0.0   \n",
       "2                                                0.0   \n",
       "3                                                0.0   \n",
       "4                                                0.0   \n",
       "\n",
       "   Care Instructions_Machine wash, do not dry clean,wash with the soft detergent   \\\n",
       "0                                                0.0                                \n",
       "1                                                0.0                                \n",
       "2                                                0.0                                \n",
       "3                                                0.0                                \n",
       "4                                                0.0                                \n",
       "\n",
       "   category_dresses  category_pants  category_shirts  \n",
       "0               1.0             0.0              0.0  \n",
       "1               1.0             0.0              0.0  \n",
       "2               1.0             0.0              0.0  \n",
       "3               1.0             0.0              0.0  \n",
       "4               1.0             0.0              0.0  \n",
       "\n",
       "[5 rows x 275 columns]"
      ]
     },
     "execution_count": 138,
     "metadata": {},
     "output_type": "execute_result"
    }
   ],
   "source": [
    "X_encoded.head()"
   ]
  },
  {
   "cell_type": "markdown",
   "id": "4d96dcbf",
   "metadata": {},
   "source": [
    "## Principal component analysis"
   ]
  },
  {
   "cell_type": "code",
   "execution_count": 140,
   "id": "7917149b",
   "metadata": {},
   "outputs": [],
   "source": [
    "from sklearn.decomposition import PCA"
   ]
  },
  {
   "cell_type": "code",
   "execution_count": 198,
   "id": "a55de6ef",
   "metadata": {},
   "outputs": [],
   "source": [
    "pca = PCA(n_components=30)\n",
    "X_encoded_pca = pca.fit_transform(X_encoded)"
   ]
  },
  {
   "cell_type": "code",
   "execution_count": 199,
   "id": "ef16a494",
   "metadata": {},
   "outputs": [
    {
     "data": {
      "text/plain": [
       "(4425, 30)"
      ]
     },
     "execution_count": 199,
     "metadata": {},
     "output_type": "execute_result"
    }
   ],
   "source": [
    "X_encoded_pca.shape"
   ]
  },
  {
   "cell_type": "code",
   "execution_count": 200,
   "id": "2f23106a",
   "metadata": {},
   "outputs": [],
   "source": [
    "X_train, X_test, y_train, y_test = train_test_split(X_encoded_pca, y, test_size=0.2, random_state=42)"
   ]
  },
  {
   "cell_type": "code",
   "execution_count": 201,
   "id": "b9ac2c2b",
   "metadata": {},
   "outputs": [
    {
     "data": {
      "text/plain": [
       "RandomForestRegressor(max_depth=8, random_state=0)"
      ]
     },
     "execution_count": 201,
     "metadata": {},
     "output_type": "execute_result"
    }
   ],
   "source": [
    "regr = RandomForestRegressor(n_estimators=100,random_state=0,max_depth=8)\n",
    "regr.fit(X_train, y_train)"
   ]
  },
  {
   "cell_type": "code",
   "execution_count": 202,
   "id": "cebaf991",
   "metadata": {},
   "outputs": [
    {
     "data": {
      "text/plain": [
       "0.7616033808613474"
      ]
     },
     "execution_count": 202,
     "metadata": {},
     "output_type": "execute_result"
    }
   ],
   "source": [
    "r2_score(y_train, regr.predict(X_train)) "
   ]
  },
  {
   "cell_type": "code",
   "execution_count": 203,
   "id": "e177338d",
   "metadata": {},
   "outputs": [
    {
     "data": {
      "text/plain": [
       "0.6231312666374627"
      ]
     },
     "execution_count": 203,
     "metadata": {},
     "output_type": "execute_result"
    }
   ],
   "source": [
    "r2_score(y_test, regr.predict(X_test))"
   ]
  },
  {
   "cell_type": "code",
   "execution_count": 214,
   "id": "677cff9b",
   "metadata": {},
   "outputs": [],
   "source": [
    "pca = PCA(n_components=25)\n",
    "X_encoded_pca = pca.fit_transform(X_encoded)"
   ]
  },
  {
   "cell_type": "code",
   "execution_count": 215,
   "id": "d35fc78f",
   "metadata": {},
   "outputs": [],
   "source": [
    "X_train, X_test, y_train, y_test = train_test_split(X_encoded_pca, y, test_size=0.2, random_state=42)"
   ]
  },
  {
   "cell_type": "code",
   "execution_count": 216,
   "id": "50d908ab",
   "metadata": {},
   "outputs": [
    {
     "data": {
      "text/plain": [
       "RandomForestRegressor(max_depth=8, random_state=0)"
      ]
     },
     "execution_count": 216,
     "metadata": {},
     "output_type": "execute_result"
    }
   ],
   "source": [
    "regr = RandomForestRegressor(n_estimators=100,random_state=0,max_depth=8)\n",
    "regr.fit(X_train, y_train)"
   ]
  },
  {
   "cell_type": "code",
   "execution_count": 217,
   "id": "5052bf8c",
   "metadata": {},
   "outputs": [
    {
     "data": {
      "text/plain": [
       "0.7474779531401541"
      ]
     },
     "execution_count": 217,
     "metadata": {},
     "output_type": "execute_result"
    }
   ],
   "source": [
    "r2_score(y_train, regr.predict(X_train)) "
   ]
  },
  {
   "cell_type": "code",
   "execution_count": 218,
   "id": "f1d02617",
   "metadata": {},
   "outputs": [
    {
     "data": {
      "text/plain": [
       "0.5846173541482216"
      ]
     },
     "execution_count": 218,
     "metadata": {},
     "output_type": "execute_result"
    }
   ],
   "source": [
    "r2_score(y_test, regr.predict(X_test))"
   ]
  },
  {
   "cell_type": "code",
   "execution_count": null,
   "id": "76e9e4c3",
   "metadata": {},
   "outputs": [],
   "source": []
  }
 ],
 "metadata": {
  "kernelspec": {
   "display_name": "Python 3 (ipykernel)",
   "language": "python",
   "name": "python3"
  },
  "language_info": {
   "codemirror_mode": {
    "name": "ipython",
    "version": 3
   },
   "file_extension": ".py",
   "mimetype": "text/x-python",
   "name": "python",
   "nbconvert_exporter": "python",
   "pygments_lexer": "ipython3",
   "version": "3.9.13"
  }
 },
 "nbformat": 4,
 "nbformat_minor": 5
}
